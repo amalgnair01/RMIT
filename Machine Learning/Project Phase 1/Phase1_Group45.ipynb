{
 "cells": [
  {
   "cell_type": "markdown",
   "id": "improving-barcelona",
   "metadata": {},
   "source": [
    "# Vehicle Loan Default Prediction"
   ]
  },
  {
   "cell_type": "markdown",
   "id": "essential-dominant",
   "metadata": {},
   "source": [
    "### Submitted by :\n",
    "**Group 45** <br>\n",
    "Akshay Prasannan - S3818611 <br>\n",
    "Amal Gopidasan Nair - S3820786 <br>\n",
    "Joel Varghese Cherian - S3808033 <br>"
   ]
  },
  {
   "cell_type": "markdown",
   "id": "ambient-syria",
   "metadata": {},
   "source": [
    "## Table of Content\n",
    "1. [Introduction](#int)\n",
    "2. [Objective](#obj) <br>\n",
    "    2.1. [Phase 1 Objective](#p1)<br>\n",
    "    2.2. [Phase 2 Objective](#p2)<br>\n",
    "3. [Dataset](#data)<br>\n",
    "    3.1 [Descriptive Features](#descp)<br>\n",
    "    3.2 [Target Feature](#tgt)<br>\n",
    "4. [Data Preparation and Exploratory Analysis](#dp)<br>\n",
    "    4.1 [Preliminaries](#pre)<br>\n",
    "    4.2 [Missing Values in the Dataset](#mvd)<br>\n",
    "    4.3 [Type of Attributes in the Dataset](#type)<br>\n",
    "5. [Data Cleaning and Transformation](#dct)<br>\n",
    "    5.1 [Data cleaning](#dc)<br>\n",
    "    5.1.1 [Fixing column name](#cn)<br>\n",
    "    5.1.2 [Fixing Missing Values](#fmv)<br>\n",
    "    5.1.3 [Fixing Type of attributes](#ftype)<br>\n",
    "    5.2 [Data Transformation](#dt)<br>\n",
    "    5.3 [Dropping Attributes](#da)<br>\n",
    "    5.4 [ Unique Values of Attributes](#unq)<br>\n",
    "6. [Summary Statistics](#sum)<br>\n",
    "7. [Data Visualization and Exploration](#dv)<br>\n",
    "    7.1 [Univariate Visualization](#uv)<br>\n",
    "    7.2 [Multivariate Visualization](#mv)<br>\n",
    "8. [Summary and Conclusion](#sumc)\n",
    "9. [Reference](#ref)"
   ]
  },
  {
   "cell_type": "markdown",
   "id": "sonic-actress",
   "metadata": {},
   "source": [
    "# Introduction <a id='int'></a>"
   ]
  },
  {
   "cell_type": "markdown",
   "id": "married-worst",
   "metadata": {},
   "source": [
    "In this present world where most people run the show with the help of various credits/loans provided by banks and other financial institutions. One major sector where a lot of credits or loans are involved is the automobile sector. \n",
    "Nowadays the vehicle loan defaults are on the higher side causing substantial loss to the financial institutions. As a result of which the loan underwriting has become more stringent and rejections due to the bad profile of the customer have increased due to this. \n",
    "The demand for an effective and efficient credit risk scoring model has increased among financial organizations. "
   ]
  },
  {
   "cell_type": "markdown",
   "id": "hundred-legislature",
   "metadata": {},
   "source": [
    "# Objective <a id='obj'></a>"
   ]
  },
  {
   "cell_type": "markdown",
   "id": "impossible-greene",
   "metadata": {},
   "source": [
    "The objective of this project is to accurately model and predict the risk of a borrower defaulting on a vehicle loan in the first EMI( Equated monthly installment) on the due date.\n",
    "The project is divided into 2 phases.\n",
    "And in this report is on the **Phase 1** Objective."
   ]
  },
  {
   "cell_type": "markdown",
   "id": "rational-imaging",
   "metadata": {},
   "source": [
    "### Phase 1 Objective <a id='p1'></a>"
   ]
  },
  {
   "cell_type": "markdown",
   "id": "august-garbage",
   "metadata": {},
   "source": [
    "The main objective of Phase 1 is data pre-processing, data exploration and visualization."
   ]
  },
  {
   "cell_type": "markdown",
   "id": "bearing-future",
   "metadata": {},
   "source": [
    "### Phase 2 Objective <a id='p2'></a>"
   ]
  },
  {
   "cell_type": "markdown",
   "id": "following-behalf",
   "metadata": {},
   "source": [
    "Phase 2 is on predictive modeling of data. "
   ]
  },
  {
   "cell_type": "markdown",
   "id": "complex-cloud",
   "metadata": {},
   "source": [
    "# Dataset <a id='data'></a>"
   ]
  },
  {
   "cell_type": "markdown",
   "id": "fatty-ozone",
   "metadata": {},
   "source": [
    "The original dataset is from L&T Financial Services & Analytics Vidhya presents ‘DataScience FinHack’ competition and we have taken it from https://www.kaggle.com/lampubhutia/loandefault-ltfs-avml-finhack . \n",
    "There were 2 datasets in the website, 'train.csv', and 'test.csv'. Train.csv is downloaded and renamed as loandefault.csv. \n",
    "We are considering only the train.csv in this project phase as the dataset and for data splitting, we would split the loandefault.csv in phase 2 as required. \n",
    "The dataset consists of 41 attributes in total, of which 40 are descriptive features and one target feature.  "
   ]
  },
  {
   "cell_type": "markdown",
   "id": "standard-blood",
   "metadata": {},
   "source": [
    "## Descriptive Features <a id='descp'></a>"
   ]
  },
  {
   "cell_type": "markdown",
   "id": "major-healing",
   "metadata": {},
   "source": [
    "| Variable | Description | Data_Type | Unit |\n",
    " :---: | :---: | :---: | :---: |\n",
    "| UniqueID | Unique ID for identifying Customers. | Nominal category | Not Applicable |\n",
    "| disbursed_amount | Loan Amount disbursed | Numerical | Indian Currency Rupees |\n",
    "|asset_cost\t| The cost of asset\t| Numerical\t| Indian Currency Rupees |\n",
    "|ltv\t| Loan to Value of the asset\t| Numerical\t| Percentage |\n",
    "| branch_id\t| The branch where the loan was disbursed\t| Nominal category\t| Not Applicable |\n",
    "| supplier_id| Vehicle dealer ID where loan was disbursed\t| Nominal category\t| Not Applicable |\n",
    "| manufacturer_id\t| Vehicle manufacturer(Hero, Honda, TVS etc.)\t| Nominal category\t| Not Applicable |\n",
    "| Current_pincode\t| Current pincode of the customer\t| Nominal category\t| Not Applicable |\n",
    "| Date.of.Birth\t| Date of birth of the customer\t| Numerical\t| DD/MM/YYY |\n",
    "| Employment.Type\t| Employment Type of the customer (Salaried/Self...\t| Nominal category\t| Not Applicable |\n",
    "| DisbursalDate\t| Date of disbursement\t| Numerical\t| DD/MM/YYY |\n",
    "| State_ID\t| State of disbursement\t| Nominal category\t| Not Applicable |\n",
    "| Employee_code_ID\t| Employee of the organization who logged the di...\t| Nominal category\t| Not Applicable |\n",
    "| MobileNo_Avl_Flag\t| Flagged as 1 if the mobile number is shared by...\t| Nominal category - Binary\t| Not Applicable |\n",
    "| Aadhar_flag\t| Flagged as 1 if the mobile number is shared by...\t| Nominal category - Binary\t| Not Applicable |\n",
    "| PAN_flag\t| Flagged as 1 if the PAN number is shared by th...\t| Nominal category - Binary\t| Not Applicable |\n",
    "| VoterID_flag\t| Flagged as 1 if the Voter ID is shared by the ...\t| Nominal category - Binary\t| Not Applicable |\n",
    "| Driving_flag\t| Flagged as 1 if the Driving license is shared ...\t| Nominal category - Binary\t| Not Applicable |\n",
    "| Passport_flag\t| Flagged as 1 if the Passport is shared by the ...\t| Nominal category - Binary\t| Not Applicable |\n",
    "| PERFORM_CNS.SCORE\t| Bureau Score\t| Numerical\t| Not Applicable |\n",
    "| PERFORM_CNS.SCORE.DESCRIPTION\t| Bureau score description\t| Ordinal Category\t| Not Applicable |\n",
    "| PRI.NO.OF.ACCTS\t| Total number of loan taken by the customer at ...\t| Numerical\t| Not Applicable |\n",
    "| PRI.ACTIVE.ACCTS\t| Total number of active loan at time of disburs...\t| Numerical\t| Not Applicable |\n",
    "| PRI.OVERDUE.ACCTS\t| Total number of default accounts at the time o...\t| Numerical\t| Not Applicable \n",
    "| PRI.CURRENT.BALANCE\t| Total principal outstanding amount of the acti...\t| Numerical\t| Indian Currency Rupees |\n",
    "| PRI.SANCTIONED.AMOUNT\t| Total amount that was sanctioned for all the l...\t| Numerical\t| Indian Currency Rupees |\n",
    "| PRI.DISBURSED.AMOUNT\t| Total amount that was disbursed for all the lo...\t| Numerical\t| Indian Currency Rupees |\n",
    "| SEC.NO.OF.ACCTS\t| Total number of loan taken by the customer at ...\t| Numerical\t| Not Applicable |\n",
    "| SEC.ACTIVE.ACCTS\t| Total number of active loan at time of disburs...\t| Numerical\t| Not Applicable |\n",
    "| SEC.OVERDUE.ACCTS\t| Total number of default accounts at the time o...\t| Numerical\t| Not Applicable |\n",
    "| SEC.CURRENT.BALANCE\t| Total principal outstanding amount of the acti...\t| Numerical\t| Indian Currency Rupees |\n",
    "| SEC.SANCTIONED.AMOUNT\t| Total amount that was sanctioned for all the l...\t| Numerical\t| Indian Currency Rupees |\n",
    "| SEC.DISBURSED.AMOUNT\t| Total amount that was disbursed for all the lo...\t| Numerical\t| Indian Currency Rupees |\n",
    "| PRIMARY.INSTAL.AMT\t| EMI Amount of the primary loan\t| Numerical\t| Indian Currency Rupees |\n",
    "| SEC.INSTAL.AMT\t| EMI Amount of the secondary loan\t| Numerical\t| Indian Currency Rupees |\n",
    "| NEW.ACCTS.IN.LAST.SIX.MONTHS\t| New loans taken by the customer in last 6 mont...\t| Numerical\t| Not Applicable |\n",
    "| DELINQUENT.ACCTS.IN.LAST.SIX.MONTHS\t| Loans defaulted in the last 6 months\t| Numerical\t| Not Applicable |\n",
    "| AVERAGE.ACCT.AGE\t| Average loan tenure\t| Numerical\t| MM/YY |\n",
    "| CREDIT.HISTORY.LENGTH\t| Time since first loan\t| Numerical\t|MM/YY |\n",
    "| NO.OF_INQUIRIES\t| Enquries done by the customer for loans\t| Numerical\t| Not Applicable |\n",
    "| loan_default\t| whether payment default on the first EMI. 0:no...\t| Nominal category - Binary\t| Not Applicable |"
   ]
  },
  {
   "cell_type": "markdown",
   "id": "compatible-balance",
   "metadata": {},
   "source": [
    "## Target Feature <a id='tgt'></a>"
   ]
  },
  {
   "cell_type": "markdown",
   "id": "bizarre-insured",
   "metadata": {},
   "source": [
    "The target feature is :<br>\n",
    "**loan_default** : It is payment default on the first EMI. The target feature has two levels, `0` and `1`.\n",
    "* `0` denoting no default in the first EMI payment <br>\n",
    "* `1` denoting default in the first EMI payment"
   ]
  },
  {
   "cell_type": "markdown",
   "id": "clean-singing",
   "metadata": {},
   "source": [
    " # Data Preparation and Exploratory Analysis <a id='dp'></a>"
   ]
  },
  {
   "cell_type": "markdown",
   "id": "raised-phoenix",
   "metadata": {},
   "source": [
    "## Preliminaries <a id='pre'></a>"
   ]
  },
  {
   "cell_type": "markdown",
   "id": "spanish-melbourne",
   "metadata": {},
   "source": [
    "The libraries required for programming are imported. And the dataset `train.csv` is used from the source and renamed as `Data_Group45.csv` for reading in python. The `train.csv` dataset is only used for modeling and predicting."
   ]
  },
  {
   "cell_type": "code",
   "execution_count": 1,
   "id": "fancy-hypothetical",
   "metadata": {},
   "outputs": [],
   "source": [
    "#Importing Modules\n",
    "import pandas as pd\n",
    "import numpy as np\n",
    "import matplotlib.pyplot as mpt\n",
    "import seaborn as sb\n",
    "import warnings\n",
    "warnings.filterwarnings(\"ignore\")"
   ]
  },
  {
   "cell_type": "markdown",
   "id": "active-franklin",
   "metadata": {},
   "source": [
    "First we load the dataset and print all the heads of columns for initial inspection"
   ]
  },
  {
   "cell_type": "code",
   "execution_count": 2,
   "id": "printable-three",
   "metadata": {
    "scrolled": true
   },
   "outputs": [
    {
     "data": {
      "text/html": [
       "<div>\n",
       "<style scoped>\n",
       "    .dataframe tbody tr th:only-of-type {\n",
       "        vertical-align: middle;\n",
       "    }\n",
       "\n",
       "    .dataframe tbody tr th {\n",
       "        vertical-align: top;\n",
       "    }\n",
       "\n",
       "    .dataframe thead th {\n",
       "        text-align: right;\n",
       "    }\n",
       "</style>\n",
       "<table border=\"1\" class=\"dataframe\">\n",
       "  <thead>\n",
       "    <tr style=\"text-align: right;\">\n",
       "      <th></th>\n",
       "      <th>UniqueID</th>\n",
       "      <th>disbursed_amount</th>\n",
       "      <th>asset_cost</th>\n",
       "      <th>ltv</th>\n",
       "      <th>branch_id</th>\n",
       "      <th>supplier_id</th>\n",
       "      <th>manufacturer_id</th>\n",
       "      <th>Current_pincode_ID</th>\n",
       "      <th>Date.of.Birth</th>\n",
       "      <th>Employment.Type</th>\n",
       "      <th>DisbursalDate</th>\n",
       "      <th>State_ID</th>\n",
       "      <th>Employee_code_ID</th>\n",
       "      <th>MobileNo_Avl_Flag</th>\n",
       "      <th>Aadhar_flag</th>\n",
       "      <th>PAN_flag</th>\n",
       "      <th>VoterID_flag</th>\n",
       "      <th>Driving_flag</th>\n",
       "      <th>Passport_flag</th>\n",
       "      <th>PERFORM_CNS.SCORE</th>\n",
       "      <th>PERFORM_CNS.SCORE.DESCRIPTION</th>\n",
       "      <th>PRI.NO.OF.ACCTS</th>\n",
       "      <th>PRI.ACTIVE.ACCTS</th>\n",
       "      <th>PRI.OVERDUE.ACCTS</th>\n",
       "      <th>PRI.CURRENT.BALANCE</th>\n",
       "      <th>PRI.SANCTIONED.AMOUNT</th>\n",
       "      <th>PRI.DISBURSED.AMOUNT</th>\n",
       "      <th>SEC.NO.OF.ACCTS</th>\n",
       "      <th>SEC.ACTIVE.ACCTS</th>\n",
       "      <th>SEC.OVERDUE.ACCTS</th>\n",
       "      <th>SEC.CURRENT.BALANCE</th>\n",
       "      <th>SEC.SANCTIONED.AMOUNT</th>\n",
       "      <th>SEC.DISBURSED.AMOUNT</th>\n",
       "      <th>PRIMARY.INSTAL.AMT</th>\n",
       "      <th>SEC.INSTAL.AMT</th>\n",
       "      <th>NEW.ACCTS.IN.LAST.SIX.MONTHS</th>\n",
       "      <th>DELINQUENT.ACCTS.IN.LAST.SIX.MONTHS</th>\n",
       "      <th>AVERAGE.ACCT.AGE</th>\n",
       "      <th>CREDIT.HISTORY.LENGTH</th>\n",
       "      <th>NO.OF_INQUIRIES</th>\n",
       "      <th>loan_default</th>\n",
       "    </tr>\n",
       "  </thead>\n",
       "  <tbody>\n",
       "    <tr>\n",
       "      <th>0</th>\n",
       "      <td>420825</td>\n",
       "      <td>50578</td>\n",
       "      <td>58400</td>\n",
       "      <td>89.55</td>\n",
       "      <td>67</td>\n",
       "      <td>22807</td>\n",
       "      <td>45</td>\n",
       "      <td>1441</td>\n",
       "      <td>01/01/1984</td>\n",
       "      <td>Salaried</td>\n",
       "      <td>03/08/2018</td>\n",
       "      <td>6</td>\n",
       "      <td>1998</td>\n",
       "      <td>1</td>\n",
       "      <td>1</td>\n",
       "      <td>0</td>\n",
       "      <td>0</td>\n",
       "      <td>0</td>\n",
       "      <td>0</td>\n",
       "      <td>0</td>\n",
       "      <td>No Bureau History Available</td>\n",
       "      <td>0</td>\n",
       "      <td>0</td>\n",
       "      <td>0</td>\n",
       "      <td>0</td>\n",
       "      <td>0</td>\n",
       "      <td>0</td>\n",
       "      <td>0</td>\n",
       "      <td>0</td>\n",
       "      <td>0</td>\n",
       "      <td>0</td>\n",
       "      <td>0</td>\n",
       "      <td>0</td>\n",
       "      <td>0</td>\n",
       "      <td>0</td>\n",
       "      <td>0</td>\n",
       "      <td>0</td>\n",
       "      <td>0yrs 0mon</td>\n",
       "      <td>0yrs 0mon</td>\n",
       "      <td>0</td>\n",
       "      <td>0</td>\n",
       "    </tr>\n",
       "    <tr>\n",
       "      <th>1</th>\n",
       "      <td>537409</td>\n",
       "      <td>47145</td>\n",
       "      <td>65550</td>\n",
       "      <td>73.23</td>\n",
       "      <td>67</td>\n",
       "      <td>22807</td>\n",
       "      <td>45</td>\n",
       "      <td>1502</td>\n",
       "      <td>31/07/1985</td>\n",
       "      <td>Self employed</td>\n",
       "      <td>26/09/2018</td>\n",
       "      <td>6</td>\n",
       "      <td>1998</td>\n",
       "      <td>1</td>\n",
       "      <td>1</td>\n",
       "      <td>0</td>\n",
       "      <td>0</td>\n",
       "      <td>0</td>\n",
       "      <td>0</td>\n",
       "      <td>598</td>\n",
       "      <td>I-Medium Risk</td>\n",
       "      <td>1</td>\n",
       "      <td>1</td>\n",
       "      <td>1</td>\n",
       "      <td>27600</td>\n",
       "      <td>50200</td>\n",
       "      <td>50200</td>\n",
       "      <td>0</td>\n",
       "      <td>0</td>\n",
       "      <td>0</td>\n",
       "      <td>0</td>\n",
       "      <td>0</td>\n",
       "      <td>0</td>\n",
       "      <td>1991</td>\n",
       "      <td>0</td>\n",
       "      <td>0</td>\n",
       "      <td>1</td>\n",
       "      <td>1yrs 11mon</td>\n",
       "      <td>1yrs 11mon</td>\n",
       "      <td>0</td>\n",
       "      <td>1</td>\n",
       "    </tr>\n",
       "    <tr>\n",
       "      <th>2</th>\n",
       "      <td>417566</td>\n",
       "      <td>53278</td>\n",
       "      <td>61360</td>\n",
       "      <td>89.63</td>\n",
       "      <td>67</td>\n",
       "      <td>22807</td>\n",
       "      <td>45</td>\n",
       "      <td>1497</td>\n",
       "      <td>24/08/1985</td>\n",
       "      <td>Self employed</td>\n",
       "      <td>01/08/2018</td>\n",
       "      <td>6</td>\n",
       "      <td>1998</td>\n",
       "      <td>1</td>\n",
       "      <td>1</td>\n",
       "      <td>0</td>\n",
       "      <td>0</td>\n",
       "      <td>0</td>\n",
       "      <td>0</td>\n",
       "      <td>0</td>\n",
       "      <td>No Bureau History Available</td>\n",
       "      <td>0</td>\n",
       "      <td>0</td>\n",
       "      <td>0</td>\n",
       "      <td>0</td>\n",
       "      <td>0</td>\n",
       "      <td>0</td>\n",
       "      <td>0</td>\n",
       "      <td>0</td>\n",
       "      <td>0</td>\n",
       "      <td>0</td>\n",
       "      <td>0</td>\n",
       "      <td>0</td>\n",
       "      <td>0</td>\n",
       "      <td>0</td>\n",
       "      <td>0</td>\n",
       "      <td>0</td>\n",
       "      <td>0yrs 0mon</td>\n",
       "      <td>0yrs 0mon</td>\n",
       "      <td>0</td>\n",
       "      <td>0</td>\n",
       "    </tr>\n",
       "    <tr>\n",
       "      <th>3</th>\n",
       "      <td>624493</td>\n",
       "      <td>57513</td>\n",
       "      <td>66113</td>\n",
       "      <td>88.48</td>\n",
       "      <td>67</td>\n",
       "      <td>22807</td>\n",
       "      <td>45</td>\n",
       "      <td>1501</td>\n",
       "      <td>30/12/1993</td>\n",
       "      <td>Self employed</td>\n",
       "      <td>26/10/2018</td>\n",
       "      <td>6</td>\n",
       "      <td>1998</td>\n",
       "      <td>1</td>\n",
       "      <td>1</td>\n",
       "      <td>0</td>\n",
       "      <td>0</td>\n",
       "      <td>0</td>\n",
       "      <td>0</td>\n",
       "      <td>305</td>\n",
       "      <td>L-Very High Risk</td>\n",
       "      <td>3</td>\n",
       "      <td>0</td>\n",
       "      <td>0</td>\n",
       "      <td>0</td>\n",
       "      <td>0</td>\n",
       "      <td>0</td>\n",
       "      <td>0</td>\n",
       "      <td>0</td>\n",
       "      <td>0</td>\n",
       "      <td>0</td>\n",
       "      <td>0</td>\n",
       "      <td>0</td>\n",
       "      <td>31</td>\n",
       "      <td>0</td>\n",
       "      <td>0</td>\n",
       "      <td>0</td>\n",
       "      <td>0yrs 8mon</td>\n",
       "      <td>1yrs 3mon</td>\n",
       "      <td>1</td>\n",
       "      <td>1</td>\n",
       "    </tr>\n",
       "    <tr>\n",
       "      <th>4</th>\n",
       "      <td>539055</td>\n",
       "      <td>52378</td>\n",
       "      <td>60300</td>\n",
       "      <td>88.39</td>\n",
       "      <td>67</td>\n",
       "      <td>22807</td>\n",
       "      <td>45</td>\n",
       "      <td>1495</td>\n",
       "      <td>09/12/1977</td>\n",
       "      <td>Self employed</td>\n",
       "      <td>26/09/2018</td>\n",
       "      <td>6</td>\n",
       "      <td>1998</td>\n",
       "      <td>1</td>\n",
       "      <td>1</td>\n",
       "      <td>0</td>\n",
       "      <td>0</td>\n",
       "      <td>0</td>\n",
       "      <td>0</td>\n",
       "      <td>0</td>\n",
       "      <td>No Bureau History Available</td>\n",
       "      <td>0</td>\n",
       "      <td>0</td>\n",
       "      <td>0</td>\n",
       "      <td>0</td>\n",
       "      <td>0</td>\n",
       "      <td>0</td>\n",
       "      <td>0</td>\n",
       "      <td>0</td>\n",
       "      <td>0</td>\n",
       "      <td>0</td>\n",
       "      <td>0</td>\n",
       "      <td>0</td>\n",
       "      <td>0</td>\n",
       "      <td>0</td>\n",
       "      <td>0</td>\n",
       "      <td>0</td>\n",
       "      <td>0yrs 0mon</td>\n",
       "      <td>0yrs 0mon</td>\n",
       "      <td>1</td>\n",
       "      <td>1</td>\n",
       "    </tr>\n",
       "  </tbody>\n",
       "</table>\n",
       "</div>"
      ],
      "text/plain": [
       "   UniqueID  disbursed_amount  asset_cost    ltv  branch_id  supplier_id  \\\n",
       "0    420825             50578       58400  89.55         67        22807   \n",
       "1    537409             47145       65550  73.23         67        22807   \n",
       "2    417566             53278       61360  89.63         67        22807   \n",
       "3    624493             57513       66113  88.48         67        22807   \n",
       "4    539055             52378       60300  88.39         67        22807   \n",
       "\n",
       "   manufacturer_id  Current_pincode_ID Date.of.Birth Employment.Type  \\\n",
       "0               45                1441    01/01/1984        Salaried   \n",
       "1               45                1502    31/07/1985   Self employed   \n",
       "2               45                1497    24/08/1985   Self employed   \n",
       "3               45                1501    30/12/1993   Self employed   \n",
       "4               45                1495    09/12/1977   Self employed   \n",
       "\n",
       "  DisbursalDate  State_ID  Employee_code_ID  MobileNo_Avl_Flag  Aadhar_flag  \\\n",
       "0    03/08/2018         6              1998                  1            1   \n",
       "1    26/09/2018         6              1998                  1            1   \n",
       "2    01/08/2018         6              1998                  1            1   \n",
       "3    26/10/2018         6              1998                  1            1   \n",
       "4    26/09/2018         6              1998                  1            1   \n",
       "\n",
       "   PAN_flag  VoterID_flag  Driving_flag  Passport_flag  PERFORM_CNS.SCORE  \\\n",
       "0         0             0             0              0                  0   \n",
       "1         0             0             0              0                598   \n",
       "2         0             0             0              0                  0   \n",
       "3         0             0             0              0                305   \n",
       "4         0             0             0              0                  0   \n",
       "\n",
       "  PERFORM_CNS.SCORE.DESCRIPTION  PRI.NO.OF.ACCTS  PRI.ACTIVE.ACCTS  \\\n",
       "0   No Bureau History Available                0                 0   \n",
       "1                 I-Medium Risk                1                 1   \n",
       "2   No Bureau History Available                0                 0   \n",
       "3              L-Very High Risk                3                 0   \n",
       "4   No Bureau History Available                0                 0   \n",
       "\n",
       "   PRI.OVERDUE.ACCTS  PRI.CURRENT.BALANCE  PRI.SANCTIONED.AMOUNT  \\\n",
       "0                  0                    0                      0   \n",
       "1                  1                27600                  50200   \n",
       "2                  0                    0                      0   \n",
       "3                  0                    0                      0   \n",
       "4                  0                    0                      0   \n",
       "\n",
       "   PRI.DISBURSED.AMOUNT  SEC.NO.OF.ACCTS  SEC.ACTIVE.ACCTS  SEC.OVERDUE.ACCTS  \\\n",
       "0                     0                0                 0                  0   \n",
       "1                 50200                0                 0                  0   \n",
       "2                     0                0                 0                  0   \n",
       "3                     0                0                 0                  0   \n",
       "4                     0                0                 0                  0   \n",
       "\n",
       "   SEC.CURRENT.BALANCE  SEC.SANCTIONED.AMOUNT  SEC.DISBURSED.AMOUNT  \\\n",
       "0                    0                      0                     0   \n",
       "1                    0                      0                     0   \n",
       "2                    0                      0                     0   \n",
       "3                    0                      0                     0   \n",
       "4                    0                      0                     0   \n",
       "\n",
       "   PRIMARY.INSTAL.AMT  SEC.INSTAL.AMT  NEW.ACCTS.IN.LAST.SIX.MONTHS  \\\n",
       "0                   0               0                             0   \n",
       "1                1991               0                             0   \n",
       "2                   0               0                             0   \n",
       "3                  31               0                             0   \n",
       "4                   0               0                             0   \n",
       "\n",
       "   DELINQUENT.ACCTS.IN.LAST.SIX.MONTHS AVERAGE.ACCT.AGE CREDIT.HISTORY.LENGTH  \\\n",
       "0                                    0        0yrs 0mon             0yrs 0mon   \n",
       "1                                    1       1yrs 11mon            1yrs 11mon   \n",
       "2                                    0        0yrs 0mon             0yrs 0mon   \n",
       "3                                    0        0yrs 8mon             1yrs 3mon   \n",
       "4                                    0        0yrs 0mon             0yrs 0mon   \n",
       "\n",
       "   NO.OF_INQUIRIES  loan_default  \n",
       "0                0             0  \n",
       "1                0             1  \n",
       "2                0             0  \n",
       "3                1             1  \n",
       "4                1             1  "
      ]
     },
     "execution_count": 2,
     "metadata": {},
     "output_type": "execute_result"
    }
   ],
   "source": [
    "ldd=pd.read_csv('Data_Group45.csv',sep=',')\n",
    "pd.set_option('display.max_columns', None)\n",
    "ldd.head()"
   ]
  },
  {
   "cell_type": "markdown",
   "id": "velvet-deficit",
   "metadata": {},
   "source": [
    "Now, lets see the dimension of the datasets and list out all the columns names to check if it matches the original dataset"
   ]
  },
  {
   "cell_type": "code",
   "execution_count": 3,
   "id": "ready-corps",
   "metadata": {
    "scrolled": true
   },
   "outputs": [
    {
     "data": {
      "text/plain": [
       "['UniqueID',\n",
       " 'disbursed_amount',\n",
       " 'asset_cost',\n",
       " 'ltv',\n",
       " 'branch_id',\n",
       " 'supplier_id',\n",
       " 'manufacturer_id',\n",
       " 'Current_pincode_ID',\n",
       " 'Date.of.Birth',\n",
       " 'Employment.Type',\n",
       " 'DisbursalDate',\n",
       " 'State_ID',\n",
       " 'Employee_code_ID',\n",
       " 'MobileNo_Avl_Flag',\n",
       " 'Aadhar_flag',\n",
       " 'PAN_flag',\n",
       " 'VoterID_flag',\n",
       " 'Driving_flag',\n",
       " 'Passport_flag',\n",
       " 'PERFORM_CNS.SCORE',\n",
       " 'PERFORM_CNS.SCORE.DESCRIPTION',\n",
       " 'PRI.NO.OF.ACCTS',\n",
       " 'PRI.ACTIVE.ACCTS',\n",
       " 'PRI.OVERDUE.ACCTS',\n",
       " 'PRI.CURRENT.BALANCE',\n",
       " 'PRI.SANCTIONED.AMOUNT',\n",
       " 'PRI.DISBURSED.AMOUNT',\n",
       " 'SEC.NO.OF.ACCTS',\n",
       " 'SEC.ACTIVE.ACCTS',\n",
       " 'SEC.OVERDUE.ACCTS',\n",
       " 'SEC.CURRENT.BALANCE',\n",
       " 'SEC.SANCTIONED.AMOUNT',\n",
       " 'SEC.DISBURSED.AMOUNT',\n",
       " 'PRIMARY.INSTAL.AMT',\n",
       " 'SEC.INSTAL.AMT',\n",
       " 'NEW.ACCTS.IN.LAST.SIX.MONTHS',\n",
       " 'DELINQUENT.ACCTS.IN.LAST.SIX.MONTHS',\n",
       " 'AVERAGE.ACCT.AGE',\n",
       " 'CREDIT.HISTORY.LENGTH',\n",
       " 'NO.OF_INQUIRIES',\n",
       " 'loan_default']"
      ]
     },
     "execution_count": 3,
     "metadata": {},
     "output_type": "execute_result"
    }
   ],
   "source": [
    "list(ldd.columns)"
   ]
  },
  {
   "cell_type": "markdown",
   "id": "preliminary-meeting",
   "metadata": {},
   "source": [
    "## Missing Values in the Dataset <a id='mvd'></a>"
   ]
  },
  {
   "cell_type": "code",
   "execution_count": 4,
   "id": "accomplished-democrat",
   "metadata": {},
   "outputs": [
    {
     "name": "stdout",
     "output_type": "stream",
     "text": [
      "Missing values\n"
     ]
    },
    {
     "data": {
      "text/plain": [
       "UniqueID                                  0\n",
       "disbursed_amount                          0\n",
       "asset_cost                                0\n",
       "ltv                                       0\n",
       "branch_id                                 0\n",
       "supplier_id                               0\n",
       "manufacturer_id                           0\n",
       "Current_pincode_ID                        0\n",
       "Date.of.Birth                             0\n",
       "Employment.Type                        7661\n",
       "DisbursalDate                             0\n",
       "State_ID                                  0\n",
       "Employee_code_ID                          0\n",
       "MobileNo_Avl_Flag                         0\n",
       "Aadhar_flag                               0\n",
       "PAN_flag                                  0\n",
       "VoterID_flag                              0\n",
       "Driving_flag                              0\n",
       "Passport_flag                             0\n",
       "PERFORM_CNS.SCORE                         0\n",
       "PERFORM_CNS.SCORE.DESCRIPTION             0\n",
       "PRI.NO.OF.ACCTS                           0\n",
       "PRI.ACTIVE.ACCTS                          0\n",
       "PRI.OVERDUE.ACCTS                         0\n",
       "PRI.CURRENT.BALANCE                       0\n",
       "PRI.SANCTIONED.AMOUNT                     0\n",
       "PRI.DISBURSED.AMOUNT                      0\n",
       "SEC.NO.OF.ACCTS                           0\n",
       "SEC.ACTIVE.ACCTS                          0\n",
       "SEC.OVERDUE.ACCTS                         0\n",
       "SEC.CURRENT.BALANCE                       0\n",
       "SEC.SANCTIONED.AMOUNT                     0\n",
       "SEC.DISBURSED.AMOUNT                      0\n",
       "PRIMARY.INSTAL.AMT                        0\n",
       "SEC.INSTAL.AMT                            0\n",
       "NEW.ACCTS.IN.LAST.SIX.MONTHS              0\n",
       "DELINQUENT.ACCTS.IN.LAST.SIX.MONTHS       0\n",
       "AVERAGE.ACCT.AGE                          0\n",
       "CREDIT.HISTORY.LENGTH                     0\n",
       "NO.OF_INQUIRIES                           0\n",
       "loan_default                              0\n",
       "dtype: int64"
      ]
     },
     "execution_count": 4,
     "metadata": {},
     "output_type": "execute_result"
    }
   ],
   "source": [
    "print('Missing values')\n",
    "ldd.isnull().sum()"
   ]
  },
  {
   "cell_type": "markdown",
   "id": "essential-local",
   "metadata": {},
   "source": [
    "## Type of Attributes in the Dataset <a id='type'></a>"
   ]
  },
  {
   "cell_type": "code",
   "execution_count": 5,
   "id": "bacterial-naples",
   "metadata": {},
   "outputs": [
    {
     "name": "stdout",
     "output_type": "stream",
     "text": [
      "Data type of Attributes:\n",
      "UniqueID                                 int64\n",
      "disbursed_amount                         int64\n",
      "asset_cost                               int64\n",
      "ltv                                    float64\n",
      "branch_id                                int64\n",
      "supplier_id                              int64\n",
      "manufacturer_id                          int64\n",
      "Current_pincode_ID                       int64\n",
      "Date.of.Birth                           object\n",
      "Employment.Type                         object\n",
      "DisbursalDate                           object\n",
      "State_ID                                 int64\n",
      "Employee_code_ID                         int64\n",
      "MobileNo_Avl_Flag                        int64\n",
      "Aadhar_flag                              int64\n",
      "PAN_flag                                 int64\n",
      "VoterID_flag                             int64\n",
      "Driving_flag                             int64\n",
      "Passport_flag                            int64\n",
      "PERFORM_CNS.SCORE                        int64\n",
      "PERFORM_CNS.SCORE.DESCRIPTION           object\n",
      "PRI.NO.OF.ACCTS                          int64\n",
      "PRI.ACTIVE.ACCTS                         int64\n",
      "PRI.OVERDUE.ACCTS                        int64\n",
      "PRI.CURRENT.BALANCE                      int64\n",
      "PRI.SANCTIONED.AMOUNT                    int64\n",
      "PRI.DISBURSED.AMOUNT                     int64\n",
      "SEC.NO.OF.ACCTS                          int64\n",
      "SEC.ACTIVE.ACCTS                         int64\n",
      "SEC.OVERDUE.ACCTS                        int64\n",
      "SEC.CURRENT.BALANCE                      int64\n",
      "SEC.SANCTIONED.AMOUNT                    int64\n",
      "SEC.DISBURSED.AMOUNT                     int64\n",
      "PRIMARY.INSTAL.AMT                       int64\n",
      "SEC.INSTAL.AMT                           int64\n",
      "NEW.ACCTS.IN.LAST.SIX.MONTHS             int64\n",
      "DELINQUENT.ACCTS.IN.LAST.SIX.MONTHS      int64\n",
      "AVERAGE.ACCT.AGE                        object\n",
      "CREDIT.HISTORY.LENGTH                   object\n",
      "NO.OF_INQUIRIES                          int64\n",
      "loan_default                             int64\n",
      "dtype: object\n"
     ]
    }
   ],
   "source": [
    "print(f\"Data type of Attributes:\")\n",
    "print(ldd.dtypes)"
   ]
  },
  {
   "cell_type": "markdown",
   "id": "protected-tactics",
   "metadata": {},
   "source": [
    "# Data Cleaning and Transformation <a id='dct'></a>"
   ]
  },
  {
   "cell_type": "markdown",
   "id": "colored-candy",
   "metadata": {},
   "source": [
    "## Data cleaning <a id='dc'></a>"
   ]
  },
  {
   "cell_type": "markdown",
   "id": "cellular-microwave",
   "metadata": {},
   "source": [
    "Upon initial inspection of the dataset we found the following issues with the data:\n",
    "* Some of the columns are not named properly\n",
    "* The attribute `Employment.Type` consist of 7661 missing value\n",
    "* The type of attributes are not defined properly (for eg date, categorical values etc)"
   ]
  },
  {
   "cell_type": "markdown",
   "id": "inappropriate-reduction",
   "metadata": {},
   "source": [
    "### Fixing column name<a id='cn'></a>"
   ]
  },
  {
   "cell_type": "markdown",
   "id": "expired-huntington",
   "metadata": {},
   "source": [
    "Changing column names for better  visualization and modeling: \n",
    "\n",
    "The following are the description of changed column name:\n",
    "\n",
    "* \"ltv\" to \"Loan to Value of the asset<br>\n",
    "* \"PERFORM_CNS.SCORE\" to \"Bureau Score\"<br>\n",
    "* \"PERFORM_CNS.SCORE.DESCRIPTION\" to \"Bureau score description\"<br>\n",
    "* \"PRIMARY.INSTAL.AMT\" to \"Primary_EMI\"<br>\n",
    "* \"SEC.INSTAL.AMT \"to\" Secondary_EMI\"<br>\n",
    "* \"DELINQUENT.ACCTS.IN.LAST.SIX.MONTHS\" to \"Default_Acct_in_6_months\"<br>\n",
    "* \"AVERAGE.ACCT.AGE\" to \"Average_Tenure\" <br>\n",
    "* \"Date.of.Birth\" to \"DOB\" <br>\n"
   ]
  },
  {
   "cell_type": "code",
   "execution_count": 6,
   "id": "special-strike",
   "metadata": {},
   "outputs": [
    {
     "data": {
      "text/html": [
       "<div>\n",
       "<style scoped>\n",
       "    .dataframe tbody tr th:only-of-type {\n",
       "        vertical-align: middle;\n",
       "    }\n",
       "\n",
       "    .dataframe tbody tr th {\n",
       "        vertical-align: top;\n",
       "    }\n",
       "\n",
       "    .dataframe thead th {\n",
       "        text-align: right;\n",
       "    }\n",
       "</style>\n",
       "<table border=\"1\" class=\"dataframe\">\n",
       "  <thead>\n",
       "    <tr style=\"text-align: right;\">\n",
       "      <th></th>\n",
       "      <th>UniqueID</th>\n",
       "      <th>disbursed_amount</th>\n",
       "      <th>asset_cost</th>\n",
       "      <th>Loan to Value of the asset</th>\n",
       "      <th>branch_id</th>\n",
       "      <th>supplier_id</th>\n",
       "      <th>manufacturer_id</th>\n",
       "      <th>Current_pincode_ID</th>\n",
       "      <th>DOB</th>\n",
       "      <th>Employment.Type</th>\n",
       "      <th>DisbursalDate</th>\n",
       "      <th>State_ID</th>\n",
       "      <th>Employee_code_ID</th>\n",
       "      <th>MobileNo_Avl_Flag</th>\n",
       "      <th>Aadhar_flag</th>\n",
       "      <th>PAN_flag</th>\n",
       "      <th>VoterID_flag</th>\n",
       "      <th>Driving_flag</th>\n",
       "      <th>Passport_flag</th>\n",
       "      <th>Bureau Score</th>\n",
       "      <th>Bureau score description</th>\n",
       "      <th>PRI.NO.OF.ACCTS</th>\n",
       "      <th>PRI.ACTIVE.ACCTS</th>\n",
       "      <th>PRI.OVERDUE.ACCTS</th>\n",
       "      <th>PRI.CURRENT.BALANCE</th>\n",
       "      <th>PRI.SANCTIONED.AMOUNT</th>\n",
       "      <th>PRI.DISBURSED.AMOUNT</th>\n",
       "      <th>SEC.NO.OF.ACCTS</th>\n",
       "      <th>SEC.ACTIVE.ACCTS</th>\n",
       "      <th>SEC.OVERDUE.ACCTS</th>\n",
       "      <th>SEC.CURRENT.BALANCE</th>\n",
       "      <th>SEC.SANCTIONED.AMOUNT</th>\n",
       "      <th>SEC.DISBURSED.AMOUNT</th>\n",
       "      <th>Primary_EMI</th>\n",
       "      <th>Secondary_EMI</th>\n",
       "      <th>NEW.ACCTS.IN.LAST.SIX.MONTHS</th>\n",
       "      <th>Default_Acct_in_6_months</th>\n",
       "      <th>Average_Tenure</th>\n",
       "      <th>CREDIT.HISTORY.LENGTH</th>\n",
       "      <th>NO.OF_INQUIRIES</th>\n",
       "      <th>loan_default</th>\n",
       "    </tr>\n",
       "  </thead>\n",
       "  <tbody>\n",
       "    <tr>\n",
       "      <th>0</th>\n",
       "      <td>420825</td>\n",
       "      <td>50578</td>\n",
       "      <td>58400</td>\n",
       "      <td>89.55</td>\n",
       "      <td>67</td>\n",
       "      <td>22807</td>\n",
       "      <td>45</td>\n",
       "      <td>1441</td>\n",
       "      <td>01/01/1984</td>\n",
       "      <td>Salaried</td>\n",
       "      <td>03/08/2018</td>\n",
       "      <td>6</td>\n",
       "      <td>1998</td>\n",
       "      <td>1</td>\n",
       "      <td>1</td>\n",
       "      <td>0</td>\n",
       "      <td>0</td>\n",
       "      <td>0</td>\n",
       "      <td>0</td>\n",
       "      <td>0</td>\n",
       "      <td>No Bureau History Available</td>\n",
       "      <td>0</td>\n",
       "      <td>0</td>\n",
       "      <td>0</td>\n",
       "      <td>0</td>\n",
       "      <td>0</td>\n",
       "      <td>0</td>\n",
       "      <td>0</td>\n",
       "      <td>0</td>\n",
       "      <td>0</td>\n",
       "      <td>0</td>\n",
       "      <td>0</td>\n",
       "      <td>0</td>\n",
       "      <td>0</td>\n",
       "      <td>0</td>\n",
       "      <td>0</td>\n",
       "      <td>0</td>\n",
       "      <td>0yrs 0mon</td>\n",
       "      <td>0yrs 0mon</td>\n",
       "      <td>0</td>\n",
       "      <td>0</td>\n",
       "    </tr>\n",
       "    <tr>\n",
       "      <th>1</th>\n",
       "      <td>537409</td>\n",
       "      <td>47145</td>\n",
       "      <td>65550</td>\n",
       "      <td>73.23</td>\n",
       "      <td>67</td>\n",
       "      <td>22807</td>\n",
       "      <td>45</td>\n",
       "      <td>1502</td>\n",
       "      <td>31/07/1985</td>\n",
       "      <td>Self employed</td>\n",
       "      <td>26/09/2018</td>\n",
       "      <td>6</td>\n",
       "      <td>1998</td>\n",
       "      <td>1</td>\n",
       "      <td>1</td>\n",
       "      <td>0</td>\n",
       "      <td>0</td>\n",
       "      <td>0</td>\n",
       "      <td>0</td>\n",
       "      <td>598</td>\n",
       "      <td>I-Medium Risk</td>\n",
       "      <td>1</td>\n",
       "      <td>1</td>\n",
       "      <td>1</td>\n",
       "      <td>27600</td>\n",
       "      <td>50200</td>\n",
       "      <td>50200</td>\n",
       "      <td>0</td>\n",
       "      <td>0</td>\n",
       "      <td>0</td>\n",
       "      <td>0</td>\n",
       "      <td>0</td>\n",
       "      <td>0</td>\n",
       "      <td>1991</td>\n",
       "      <td>0</td>\n",
       "      <td>0</td>\n",
       "      <td>1</td>\n",
       "      <td>1yrs 11mon</td>\n",
       "      <td>1yrs 11mon</td>\n",
       "      <td>0</td>\n",
       "      <td>1</td>\n",
       "    </tr>\n",
       "    <tr>\n",
       "      <th>2</th>\n",
       "      <td>417566</td>\n",
       "      <td>53278</td>\n",
       "      <td>61360</td>\n",
       "      <td>89.63</td>\n",
       "      <td>67</td>\n",
       "      <td>22807</td>\n",
       "      <td>45</td>\n",
       "      <td>1497</td>\n",
       "      <td>24/08/1985</td>\n",
       "      <td>Self employed</td>\n",
       "      <td>01/08/2018</td>\n",
       "      <td>6</td>\n",
       "      <td>1998</td>\n",
       "      <td>1</td>\n",
       "      <td>1</td>\n",
       "      <td>0</td>\n",
       "      <td>0</td>\n",
       "      <td>0</td>\n",
       "      <td>0</td>\n",
       "      <td>0</td>\n",
       "      <td>No Bureau History Available</td>\n",
       "      <td>0</td>\n",
       "      <td>0</td>\n",
       "      <td>0</td>\n",
       "      <td>0</td>\n",
       "      <td>0</td>\n",
       "      <td>0</td>\n",
       "      <td>0</td>\n",
       "      <td>0</td>\n",
       "      <td>0</td>\n",
       "      <td>0</td>\n",
       "      <td>0</td>\n",
       "      <td>0</td>\n",
       "      <td>0</td>\n",
       "      <td>0</td>\n",
       "      <td>0</td>\n",
       "      <td>0</td>\n",
       "      <td>0yrs 0mon</td>\n",
       "      <td>0yrs 0mon</td>\n",
       "      <td>0</td>\n",
       "      <td>0</td>\n",
       "    </tr>\n",
       "    <tr>\n",
       "      <th>3</th>\n",
       "      <td>624493</td>\n",
       "      <td>57513</td>\n",
       "      <td>66113</td>\n",
       "      <td>88.48</td>\n",
       "      <td>67</td>\n",
       "      <td>22807</td>\n",
       "      <td>45</td>\n",
       "      <td>1501</td>\n",
       "      <td>30/12/1993</td>\n",
       "      <td>Self employed</td>\n",
       "      <td>26/10/2018</td>\n",
       "      <td>6</td>\n",
       "      <td>1998</td>\n",
       "      <td>1</td>\n",
       "      <td>1</td>\n",
       "      <td>0</td>\n",
       "      <td>0</td>\n",
       "      <td>0</td>\n",
       "      <td>0</td>\n",
       "      <td>305</td>\n",
       "      <td>L-Very High Risk</td>\n",
       "      <td>3</td>\n",
       "      <td>0</td>\n",
       "      <td>0</td>\n",
       "      <td>0</td>\n",
       "      <td>0</td>\n",
       "      <td>0</td>\n",
       "      <td>0</td>\n",
       "      <td>0</td>\n",
       "      <td>0</td>\n",
       "      <td>0</td>\n",
       "      <td>0</td>\n",
       "      <td>0</td>\n",
       "      <td>31</td>\n",
       "      <td>0</td>\n",
       "      <td>0</td>\n",
       "      <td>0</td>\n",
       "      <td>0yrs 8mon</td>\n",
       "      <td>1yrs 3mon</td>\n",
       "      <td>1</td>\n",
       "      <td>1</td>\n",
       "    </tr>\n",
       "    <tr>\n",
       "      <th>4</th>\n",
       "      <td>539055</td>\n",
       "      <td>52378</td>\n",
       "      <td>60300</td>\n",
       "      <td>88.39</td>\n",
       "      <td>67</td>\n",
       "      <td>22807</td>\n",
       "      <td>45</td>\n",
       "      <td>1495</td>\n",
       "      <td>09/12/1977</td>\n",
       "      <td>Self employed</td>\n",
       "      <td>26/09/2018</td>\n",
       "      <td>6</td>\n",
       "      <td>1998</td>\n",
       "      <td>1</td>\n",
       "      <td>1</td>\n",
       "      <td>0</td>\n",
       "      <td>0</td>\n",
       "      <td>0</td>\n",
       "      <td>0</td>\n",
       "      <td>0</td>\n",
       "      <td>No Bureau History Available</td>\n",
       "      <td>0</td>\n",
       "      <td>0</td>\n",
       "      <td>0</td>\n",
       "      <td>0</td>\n",
       "      <td>0</td>\n",
       "      <td>0</td>\n",
       "      <td>0</td>\n",
       "      <td>0</td>\n",
       "      <td>0</td>\n",
       "      <td>0</td>\n",
       "      <td>0</td>\n",
       "      <td>0</td>\n",
       "      <td>0</td>\n",
       "      <td>0</td>\n",
       "      <td>0</td>\n",
       "      <td>0</td>\n",
       "      <td>0yrs 0mon</td>\n",
       "      <td>0yrs 0mon</td>\n",
       "      <td>1</td>\n",
       "      <td>1</td>\n",
       "    </tr>\n",
       "  </tbody>\n",
       "</table>\n",
       "</div>"
      ],
      "text/plain": [
       "   UniqueID  disbursed_amount  asset_cost  Loan to Value of the asset  \\\n",
       "0    420825             50578       58400                       89.55   \n",
       "1    537409             47145       65550                       73.23   \n",
       "2    417566             53278       61360                       89.63   \n",
       "3    624493             57513       66113                       88.48   \n",
       "4    539055             52378       60300                       88.39   \n",
       "\n",
       "   branch_id  supplier_id  manufacturer_id  Current_pincode_ID         DOB  \\\n",
       "0         67        22807               45                1441  01/01/1984   \n",
       "1         67        22807               45                1502  31/07/1985   \n",
       "2         67        22807               45                1497  24/08/1985   \n",
       "3         67        22807               45                1501  30/12/1993   \n",
       "4         67        22807               45                1495  09/12/1977   \n",
       "\n",
       "  Employment.Type DisbursalDate  State_ID  Employee_code_ID  \\\n",
       "0        Salaried    03/08/2018         6              1998   \n",
       "1   Self employed    26/09/2018         6              1998   \n",
       "2   Self employed    01/08/2018         6              1998   \n",
       "3   Self employed    26/10/2018         6              1998   \n",
       "4   Self employed    26/09/2018         6              1998   \n",
       "\n",
       "   MobileNo_Avl_Flag  Aadhar_flag  PAN_flag  VoterID_flag  Driving_flag  \\\n",
       "0                  1            1         0             0             0   \n",
       "1                  1            1         0             0             0   \n",
       "2                  1            1         0             0             0   \n",
       "3                  1            1         0             0             0   \n",
       "4                  1            1         0             0             0   \n",
       "\n",
       "   Passport_flag  Bureau Score     Bureau score description  PRI.NO.OF.ACCTS  \\\n",
       "0              0             0  No Bureau History Available                0   \n",
       "1              0           598                I-Medium Risk                1   \n",
       "2              0             0  No Bureau History Available                0   \n",
       "3              0           305             L-Very High Risk                3   \n",
       "4              0             0  No Bureau History Available                0   \n",
       "\n",
       "   PRI.ACTIVE.ACCTS  PRI.OVERDUE.ACCTS  PRI.CURRENT.BALANCE  \\\n",
       "0                 0                  0                    0   \n",
       "1                 1                  1                27600   \n",
       "2                 0                  0                    0   \n",
       "3                 0                  0                    0   \n",
       "4                 0                  0                    0   \n",
       "\n",
       "   PRI.SANCTIONED.AMOUNT  PRI.DISBURSED.AMOUNT  SEC.NO.OF.ACCTS  \\\n",
       "0                      0                     0                0   \n",
       "1                  50200                 50200                0   \n",
       "2                      0                     0                0   \n",
       "3                      0                     0                0   \n",
       "4                      0                     0                0   \n",
       "\n",
       "   SEC.ACTIVE.ACCTS  SEC.OVERDUE.ACCTS  SEC.CURRENT.BALANCE  \\\n",
       "0                 0                  0                    0   \n",
       "1                 0                  0                    0   \n",
       "2                 0                  0                    0   \n",
       "3                 0                  0                    0   \n",
       "4                 0                  0                    0   \n",
       "\n",
       "   SEC.SANCTIONED.AMOUNT  SEC.DISBURSED.AMOUNT  Primary_EMI  Secondary_EMI  \\\n",
       "0                      0                     0            0              0   \n",
       "1                      0                     0         1991              0   \n",
       "2                      0                     0            0              0   \n",
       "3                      0                     0           31              0   \n",
       "4                      0                     0            0              0   \n",
       "\n",
       "   NEW.ACCTS.IN.LAST.SIX.MONTHS  Default_Acct_in_6_months Average_Tenure  \\\n",
       "0                             0                         0      0yrs 0mon   \n",
       "1                             0                         1     1yrs 11mon   \n",
       "2                             0                         0      0yrs 0mon   \n",
       "3                             0                         0      0yrs 8mon   \n",
       "4                             0                         0      0yrs 0mon   \n",
       "\n",
       "  CREDIT.HISTORY.LENGTH  NO.OF_INQUIRIES  loan_default  \n",
       "0             0yrs 0mon                0             0  \n",
       "1            1yrs 11mon                0             1  \n",
       "2             0yrs 0mon                0             0  \n",
       "3             1yrs 3mon                1             1  \n",
       "4             0yrs 0mon                1             1  "
      ]
     },
     "execution_count": 6,
     "metadata": {},
     "output_type": "execute_result"
    }
   ],
   "source": [
    "ldd=ldd.rename(columns={\"ltv\":\"Loan to Value of the asset\",\n",
    "\"PERFORM_CNS.SCORE\":\"Bureau Score\",\n",
    "\"PERFORM_CNS.SCORE.DESCRIPTION\":\"Bureau score description\",\n",
    "\"PRIMARY.INSTAL.AMT\":\"Primary_EMI\",\n",
    "\"SEC.INSTAL.AMT\":\"Secondary_EMI\",\n",
    "\"DELINQUENT.ACCTS.IN.LAST.SIX.MONTHS\":\"Default_Acct_in_6_months\",\n",
    "\"AVERAGE.ACCT.AGE\":\"Average_Tenure\",\"Date.of.Birth\":\"DOB\"})\n",
    "ldd.head()"
   ]
  },
  {
   "cell_type": "markdown",
   "id": "recorded-prevention",
   "metadata": {},
   "source": [
    "### Fixing Missing Values <a id='fmv'></a>"
   ]
  },
  {
   "cell_type": "markdown",
   "id": "overall-poultry",
   "metadata": {},
   "source": [
    "`Employment.Type` consist of 7661 missing value. Since the missing value constitute of only 3.28% of the dataset, the missing values are removed for further pre-processing."
   ]
  },
  {
   "cell_type": "code",
   "execution_count": 7,
   "id": "vocal-effects",
   "metadata": {},
   "outputs": [
    {
     "data": {
      "text/plain": [
       "Self employed    127635\n",
       "Salaried          97858\n",
       "Name: Employment.Type, dtype: int64"
      ]
     },
     "execution_count": 7,
     "metadata": {},
     "output_type": "execute_result"
    }
   ],
   "source": [
    "ldd['Employment.Type'].value_counts()"
   ]
  },
  {
   "cell_type": "code",
   "execution_count": 8,
   "id": "quiet-incidence",
   "metadata": {},
   "outputs": [],
   "source": [
    "ldd.dropna(inplace=True)"
   ]
  },
  {
   "cell_type": "code",
   "execution_count": 9,
   "id": "modified-adaptation",
   "metadata": {},
   "outputs": [
    {
     "name": "stdout",
     "output_type": "stream",
     "text": [
      "Missing values\n"
     ]
    },
    {
     "data": {
      "text/plain": [
       "UniqueID                        0\n",
       "disbursed_amount                0\n",
       "asset_cost                      0\n",
       "Loan to Value of the asset      0\n",
       "branch_id                       0\n",
       "supplier_id                     0\n",
       "manufacturer_id                 0\n",
       "Current_pincode_ID              0\n",
       "DOB                             0\n",
       "Employment.Type                 0\n",
       "DisbursalDate                   0\n",
       "State_ID                        0\n",
       "Employee_code_ID                0\n",
       "MobileNo_Avl_Flag               0\n",
       "Aadhar_flag                     0\n",
       "PAN_flag                        0\n",
       "VoterID_flag                    0\n",
       "Driving_flag                    0\n",
       "Passport_flag                   0\n",
       "Bureau Score                    0\n",
       "Bureau score description        0\n",
       "PRI.NO.OF.ACCTS                 0\n",
       "PRI.ACTIVE.ACCTS                0\n",
       "PRI.OVERDUE.ACCTS               0\n",
       "PRI.CURRENT.BALANCE             0\n",
       "PRI.SANCTIONED.AMOUNT           0\n",
       "PRI.DISBURSED.AMOUNT            0\n",
       "SEC.NO.OF.ACCTS                 0\n",
       "SEC.ACTIVE.ACCTS                0\n",
       "SEC.OVERDUE.ACCTS               0\n",
       "SEC.CURRENT.BALANCE             0\n",
       "SEC.SANCTIONED.AMOUNT           0\n",
       "SEC.DISBURSED.AMOUNT            0\n",
       "Primary_EMI                     0\n",
       "Secondary_EMI                   0\n",
       "NEW.ACCTS.IN.LAST.SIX.MONTHS    0\n",
       "Default_Acct_in_6_months        0\n",
       "Average_Tenure                  0\n",
       "CREDIT.HISTORY.LENGTH           0\n",
       "NO.OF_INQUIRIES                 0\n",
       "loan_default                    0\n",
       "dtype: int64"
      ]
     },
     "execution_count": 9,
     "metadata": {},
     "output_type": "execute_result"
    }
   ],
   "source": [
    "print('Missing values')\n",
    "ldd.isnull().sum()"
   ]
  },
  {
   "cell_type": "markdown",
   "id": "capital-palace",
   "metadata": {},
   "source": [
    "### Fixing Type of attributes <a id='ftype'></a>"
   ]
  },
  {
   "cell_type": "markdown",
   "id": "entitled-sampling",
   "metadata": {},
   "source": [
    "Some attributes type require conversion for further pre processing data manipulation:\n",
    "\n",
    "* `branch_id`, `supplier_id`, `manufacturer_id`, `State_ID`, `Employee_code_ID` , `loan_default` and `Employment.Type` are converted to `Category`\n",
    "* `DOB` and `DisbursalDate` are coverted to `date and time format`"
   ]
  },
  {
   "cell_type": "code",
   "execution_count": 10,
   "id": "honest-pilot",
   "metadata": {},
   "outputs": [],
   "source": [
    "ldd['branch_id']=ldd['branch_id'].astype('category')\n",
    "ldd['supplier_id']=ldd['supplier_id'].astype('category')\n",
    "ldd['manufacturer_id']=ldd['manufacturer_id'].astype('category')\n",
    "ldd['State_ID']=ldd['State_ID'].astype('category')\n",
    "ldd['Employee_code_ID']=ldd['Employee_code_ID'].astype('category')\n",
    "ldd['loan_default']=ldd['loan_default'].astype('category')\n",
    "ldd['Employment.Type']=ldd['Employment.Type'].astype('category')\n",
    "ldd['DOB']=ldd['DOB'].astype('datetime64[ns]')\n",
    "ldd['DisbursalDate']=ldd['DisbursalDate'].astype('datetime64[ns]')"
   ]
  },
  {
   "cell_type": "code",
   "execution_count": 11,
   "id": "weird-candidate",
   "metadata": {},
   "outputs": [
    {
     "name": "stdout",
     "output_type": "stream",
     "text": [
      "UniqueID                                 int64\n",
      "disbursed_amount                         int64\n",
      "asset_cost                               int64\n",
      "Loan to Value of the asset             float64\n",
      "branch_id                             category\n",
      "supplier_id                           category\n",
      "manufacturer_id                       category\n",
      "Current_pincode_ID                       int64\n",
      "DOB                             datetime64[ns]\n",
      "Employment.Type                       category\n",
      "DisbursalDate                   datetime64[ns]\n",
      "State_ID                              category\n",
      "Employee_code_ID                      category\n",
      "MobileNo_Avl_Flag                        int64\n",
      "Aadhar_flag                              int64\n",
      "PAN_flag                                 int64\n",
      "VoterID_flag                             int64\n",
      "Driving_flag                             int64\n",
      "Passport_flag                            int64\n",
      "Bureau Score                             int64\n",
      "Bureau score description                object\n",
      "PRI.NO.OF.ACCTS                          int64\n",
      "PRI.ACTIVE.ACCTS                         int64\n",
      "PRI.OVERDUE.ACCTS                        int64\n",
      "PRI.CURRENT.BALANCE                      int64\n",
      "PRI.SANCTIONED.AMOUNT                    int64\n",
      "PRI.DISBURSED.AMOUNT                     int64\n",
      "SEC.NO.OF.ACCTS                          int64\n",
      "SEC.ACTIVE.ACCTS                         int64\n",
      "SEC.OVERDUE.ACCTS                        int64\n",
      "SEC.CURRENT.BALANCE                      int64\n",
      "SEC.SANCTIONED.AMOUNT                    int64\n",
      "SEC.DISBURSED.AMOUNT                     int64\n",
      "Primary_EMI                              int64\n",
      "Secondary_EMI                            int64\n",
      "NEW.ACCTS.IN.LAST.SIX.MONTHS             int64\n",
      "Default_Acct_in_6_months                 int64\n",
      "Average_Tenure                          object\n",
      "CREDIT.HISTORY.LENGTH                   object\n",
      "NO.OF_INQUIRIES                          int64\n",
      "loan_default                          category\n",
      "dtype: object\n"
     ]
    }
   ],
   "source": [
    "print(ldd.dtypes)"
   ]
  },
  {
   "cell_type": "markdown",
   "id": "fiscal-danish",
   "metadata": {},
   "source": [
    "## Data Transformation <a id='dt'></a>"
   ]
  },
  {
   "cell_type": "markdown",
   "id": "hungry-december",
   "metadata": {},
   "source": [
    "With the attribute 'DOB' (Date of birth) and 'DisbursalDate' we calculate the age of clients as of the Disbursal date and add it to the dataset as a new attribute, 'Age'. Also check the data type of the new attribute and confirm it to be int type."
   ]
  },
  {
   "cell_type": "code",
   "execution_count": 12,
   "id": "wooden-freedom",
   "metadata": {},
   "outputs": [
    {
     "name": "stdout",
     "output_type": "stream",
     "text": [
      "0         34\n",
      "1         33\n",
      "2         32\n",
      "3         24\n",
      "4         41\n",
      "          ..\n",
      "233149    30\n",
      "233150    30\n",
      "233151    42\n",
      "233152    24\n",
      "233153    34\n",
      "Length: 225493, dtype: int64\n"
     ]
    }
   ],
   "source": [
    "from datetime import date\n",
    "def calculate_age(row):\n",
    "    disb=row.DisbursalDate\n",
    "    birthdate=row['DOB']\n",
    "    Age=disb.year-birthdate.year-((disb.month,disb.day)<(birthdate.month, birthdate.day))\n",
    "    return Age\n",
    "Age=ldd.apply(calculate_age,axis=1)\n",
    "print(Age)\n",
    "ldd['Age'] = Age"
   ]
  },
  {
   "cell_type": "markdown",
   "id": "loaded-offer",
   "metadata": {},
   "source": [
    "Further, the `Age_group` is derived from  the `Age` column."
   ]
  },
  {
   "cell_type": "code",
   "execution_count": 13,
   "id": "private-constitutional",
   "metadata": {},
   "outputs": [],
   "source": [
    "bins=[19, 29, 39, 49,59,69]\n",
    "group_label =[\"20-29\", '30-39' , '40-49', '50-59', '60-69']\n",
    "ldd['Age_group'] = pd.cut(ldd['Age'], bins, labels=group_label)"
   ]
  },
  {
   "cell_type": "code",
   "execution_count": 14,
   "id": "expressed-freeze",
   "metadata": {},
   "outputs": [
    {
     "name": "stdout",
     "output_type": "stream",
     "text": [
      "UniqueID                                 int64\n",
      "disbursed_amount                         int64\n",
      "asset_cost                               int64\n",
      "Loan to Value of the asset             float64\n",
      "branch_id                             category\n",
      "supplier_id                           category\n",
      "manufacturer_id                       category\n",
      "Current_pincode_ID                       int64\n",
      "DOB                             datetime64[ns]\n",
      "Employment.Type                       category\n",
      "DisbursalDate                   datetime64[ns]\n",
      "State_ID                              category\n",
      "Employee_code_ID                      category\n",
      "MobileNo_Avl_Flag                        int64\n",
      "Aadhar_flag                              int64\n",
      "PAN_flag                                 int64\n",
      "VoterID_flag                             int64\n",
      "Driving_flag                             int64\n",
      "Passport_flag                            int64\n",
      "Bureau Score                             int64\n",
      "Bureau score description                object\n",
      "PRI.NO.OF.ACCTS                          int64\n",
      "PRI.ACTIVE.ACCTS                         int64\n",
      "PRI.OVERDUE.ACCTS                        int64\n",
      "PRI.CURRENT.BALANCE                      int64\n",
      "PRI.SANCTIONED.AMOUNT                    int64\n",
      "PRI.DISBURSED.AMOUNT                     int64\n",
      "SEC.NO.OF.ACCTS                          int64\n",
      "SEC.ACTIVE.ACCTS                         int64\n",
      "SEC.OVERDUE.ACCTS                        int64\n",
      "SEC.CURRENT.BALANCE                      int64\n",
      "SEC.SANCTIONED.AMOUNT                    int64\n",
      "SEC.DISBURSED.AMOUNT                     int64\n",
      "Primary_EMI                              int64\n",
      "Secondary_EMI                            int64\n",
      "NEW.ACCTS.IN.LAST.SIX.MONTHS             int64\n",
      "Default_Acct_in_6_months                 int64\n",
      "Average_Tenure                          object\n",
      "CREDIT.HISTORY.LENGTH                   object\n",
      "NO.OF_INQUIRIES                          int64\n",
      "loan_default                          category\n",
      "Age                                      int64\n",
      "Age_group                             category\n",
      "dtype: object\n"
     ]
    }
   ],
   "source": [
    "print(ldd.dtypes)"
   ]
  },
  {
   "cell_type": "markdown",
   "id": "valued-tuning",
   "metadata": {},
   "source": [
    "The attributes, 'Average_Tenure' and 'CREDIT.HISTORY.LENGTH' are found be in a unclean format. Both the attributes are transformed to show the tenure in months. "
   ]
  },
  {
   "cell_type": "code",
   "execution_count": 15,
   "id": "ethical-scott",
   "metadata": {},
   "outputs": [
    {
     "name": "stdout",
     "output_type": "stream",
     "text": [
      "0     0yrs 0mon\n",
      "1    1yrs 11mon\n",
      "2     0yrs 0mon\n",
      "3     0yrs 8mon\n",
      "4     0yrs 0mon\n",
      "Name: Average_Tenure, dtype: object\n"
     ]
    }
   ],
   "source": [
    "print(ldd['Average_Tenure'].head())"
   ]
  },
  {
   "cell_type": "code",
   "execution_count": 16,
   "id": "regulated-census",
   "metadata": {},
   "outputs": [
    {
     "name": "stdout",
     "output_type": "stream",
     "text": [
      "0     0yrs 0mon\n",
      "1    1yrs 11mon\n",
      "2     0yrs 0mon\n",
      "3     1yrs 3mon\n",
      "4     0yrs 0mon\n",
      "Name: CREDIT.HISTORY.LENGTH, dtype: object\n"
     ]
    }
   ],
   "source": [
    "print(ldd['CREDIT.HISTORY.LENGTH'].head())"
   ]
  },
  {
   "cell_type": "code",
   "execution_count": 17,
   "id": "collaborative-salem",
   "metadata": {},
   "outputs": [],
   "source": [
    "def avgtenure(a):\n",
    "    splitdata=a.split(\" \")\n",
    "    year=int(splitdata[0].split(\"y\")[0])\n",
    "    month=int(splitdata[1].split(\"m\")[0])\n",
    "    tenure=(12*year)+month\n",
    "    return tenure"
   ]
  },
  {
   "cell_type": "code",
   "execution_count": 18,
   "id": "attached-quantum",
   "metadata": {},
   "outputs": [],
   "source": [
    "ldd['Average_Tenure']=ldd['Average_Tenure'].apply(avgtenure)"
   ]
  },
  {
   "cell_type": "code",
   "execution_count": 19,
   "id": "flexible-substitute",
   "metadata": {},
   "outputs": [
    {
     "name": "stdout",
     "output_type": "stream",
     "text": [
      "0     0\n",
      "1    23\n",
      "2     0\n",
      "3     8\n",
      "4     0\n",
      "Name: Average_Tenure, dtype: int64\n"
     ]
    }
   ],
   "source": [
    "print(ldd['Average_Tenure'].head())"
   ]
  },
  {
   "cell_type": "code",
   "execution_count": 20,
   "id": "humanitarian-diversity",
   "metadata": {},
   "outputs": [],
   "source": [
    "ldd['CREDIT.HISTORY.LENGTH']=ldd['CREDIT.HISTORY.LENGTH'].apply(avgtenure)"
   ]
  },
  {
   "cell_type": "markdown",
   "id": "blond-tuition",
   "metadata": {},
   "source": [
    "The attribute `Bureau score description` is encoded to numerical values to narrow down the classification for the purpose of data visualization and Exploration of data.\n",
    "\n",
    "Below are the classification of  `Bureau score description`:\n",
    "\n",
    "* 0 represents :\n",
    "'No Bureau History Available','Not Scored: Sufficient History Not Available', 'Not Scored: Not Enough Info available on the customer', 'Not Scored: No Activity seen on the customer (Inactive)', 'Not Scored: No Updates available in last 36 months','Not Scored: Only a Guarantor', 'Not Scored: More than 50 active Accounts found'\n",
    "* 1 represents :\n",
    "'A-Very Low Risk','B-Very Low Risk','C-Very Low Risk','D-Very Low Risk'\n",
    "\n",
    "* 2 represents :\n",
    "'E-Low Risk','F-Low Risk','G-Low Risk'\n",
    "\n",
    "* 3 represents :\n",
    "'H-Medium Risk','I-Medium Risk'\n",
    "\n",
    "* 4 represents :\n",
    "'J-High Risk','K-High Risk'\n",
    "\n",
    "* 5 represents :\n",
    "'L-Very High Risk','M-Very High Risk"
   ]
  },
  {
   "cell_type": "code",
   "execution_count": 21,
   "id": "round-crime",
   "metadata": {},
   "outputs": [],
   "source": [
    "ldd['Bureau score description']=ldd['Bureau score description'].replace(('No Bureau History Available','Not Scored: Sufficient History Not Available',\n",
    "                                                                         'Not Scored: Not Enough Info available on the customer','Not Scored: No Activity seen on the customer (Inactive)',\n",
    "                                                                        'Not Scored: No Updates available in last 36 months','Not Scored: Only a Guarantor',\n",
    "                                                                        'Not Scored: More than 50 active Accounts found'),0)\n",
    "\n",
    "ldd['Bureau score description']=ldd['Bureau score description'].replace(('C-Very Low Risk','A-Very Low Risk','D-Very Low Risk','B-Very Low Risk'),1)\n",
    "ldd['Bureau score description']=ldd['Bureau score description'].replace(('E-Low Risk','F-Low Risk','G-Low Risk'),2)\n",
    "ldd['Bureau score description']=ldd['Bureau score description'].replace(('H-Medium Risk','I-Medium Risk'),3)\n",
    "ldd['Bureau score description']=ldd['Bureau score description'].replace(('J-High Risk','K-High Risk'),4)\n",
    "ldd['Bureau score description']=ldd['Bureau score description'].replace(('L-Very High Risk','M-Very High Risk'),5)"
   ]
  },
  {
   "cell_type": "code",
   "execution_count": 22,
   "id": "stuffed-float",
   "metadata": {},
   "outputs": [
    {
     "name": "stdout",
     "output_type": "stream",
     "text": [
      "Unique values for Bureau score description\n",
      "0    124253\n",
      "1     49671\n",
      "2     17906\n",
      "3     12135\n",
      "4     11774\n",
      "5      9754\n",
      "Name: Bureau score description, dtype: int64\n",
      "\n"
     ]
    }
   ],
   "source": [
    "bsdcolumn=['Bureau score description']\n",
    "for col in bsdcolumn:\n",
    "    print('Unique values for ' + col)\n",
    "    print(ldd[col].value_counts())\n",
    "    print('')"
   ]
  },
  {
   "cell_type": "code",
   "execution_count": 23,
   "id": "brave-assistant",
   "metadata": {},
   "outputs": [],
   "source": [
    "ldd['Bureau score description']=ldd['Bureau score description'].astype('category')"
   ]
  },
  {
   "cell_type": "code",
   "execution_count": 24,
   "id": "entertaining-integral",
   "metadata": {},
   "outputs": [
    {
     "data": {
      "text/plain": [
       "UniqueID                                 int64\n",
       "disbursed_amount                         int64\n",
       "asset_cost                               int64\n",
       "Loan to Value of the asset             float64\n",
       "branch_id                             category\n",
       "supplier_id                           category\n",
       "manufacturer_id                       category\n",
       "Current_pincode_ID                       int64\n",
       "DOB                             datetime64[ns]\n",
       "Employment.Type                       category\n",
       "DisbursalDate                   datetime64[ns]\n",
       "State_ID                              category\n",
       "Employee_code_ID                      category\n",
       "MobileNo_Avl_Flag                        int64\n",
       "Aadhar_flag                              int64\n",
       "PAN_flag                                 int64\n",
       "VoterID_flag                             int64\n",
       "Driving_flag                             int64\n",
       "Passport_flag                            int64\n",
       "Bureau Score                             int64\n",
       "Bureau score description              category\n",
       "PRI.NO.OF.ACCTS                          int64\n",
       "PRI.ACTIVE.ACCTS                         int64\n",
       "PRI.OVERDUE.ACCTS                        int64\n",
       "PRI.CURRENT.BALANCE                      int64\n",
       "PRI.SANCTIONED.AMOUNT                    int64\n",
       "PRI.DISBURSED.AMOUNT                     int64\n",
       "SEC.NO.OF.ACCTS                          int64\n",
       "SEC.ACTIVE.ACCTS                         int64\n",
       "SEC.OVERDUE.ACCTS                        int64\n",
       "SEC.CURRENT.BALANCE                      int64\n",
       "SEC.SANCTIONED.AMOUNT                    int64\n",
       "SEC.DISBURSED.AMOUNT                     int64\n",
       "Primary_EMI                              int64\n",
       "Secondary_EMI                            int64\n",
       "NEW.ACCTS.IN.LAST.SIX.MONTHS             int64\n",
       "Default_Acct_in_6_months                 int64\n",
       "Average_Tenure                           int64\n",
       "CREDIT.HISTORY.LENGTH                    int64\n",
       "NO.OF_INQUIRIES                          int64\n",
       "loan_default                          category\n",
       "Age                                      int64\n",
       "Age_group                             category\n",
       "dtype: object"
      ]
     },
     "execution_count": 24,
     "metadata": {},
     "output_type": "execute_result"
    }
   ],
   "source": [
    "ldd.dtypes"
   ]
  },
  {
   "cell_type": "markdown",
   "id": "charming-methodology",
   "metadata": {},
   "source": [
    "## Dropping Attributes <a id='da'></a>"
   ]
  },
  {
   "cell_type": "markdown",
   "id": "challenging-placement",
   "metadata": {},
   "source": [
    "The attribute which doesn't contribute in modeling or prediction are removed."
   ]
  },
  {
   "cell_type": "code",
   "execution_count": 25,
   "id": "directed-contrast",
   "metadata": {},
   "outputs": [
    {
     "data": {
      "text/plain": [
       "(225493, 39)"
      ]
     },
     "execution_count": 25,
     "metadata": {},
     "output_type": "execute_result"
    }
   ],
   "source": [
    "ldd.drop(['UniqueID','DOB','DisbursalDate','Current_pincode_ID'],axis=1,inplace=True)\n",
    "ldd.shape"
   ]
  },
  {
   "cell_type": "markdown",
   "id": "liable-chassis",
   "metadata": {},
   "source": [
    "## Unique Values of Attributes <a id='unq'></a>"
   ]
  },
  {
   "cell_type": "code",
   "execution_count": 26,
   "id": "blond-friendly",
   "metadata": {},
   "outputs": [
    {
     "name": "stdout",
     "output_type": "stream",
     "text": [
      "Unique values for disbursed_amount\n",
      "48349    2076\n",
      "53303    2034\n",
      "50303    1915\n",
      "51303    1913\n",
      "52303    1814\n",
      "         ... \n",
      "54178       1\n",
      "60325       1\n",
      "48047       1\n",
      "66584       1\n",
      "47319       1\n",
      "Name: disbursed_amount, Length: 24228, dtype: int64\n",
      "\n",
      "Unique values for asset_cost\n",
      "68000     674\n",
      "67000     583\n",
      "72000     526\n",
      "70000     491\n",
      "74000     461\n",
      "         ... \n",
      "173319      1\n",
      "91391       1\n",
      "93438       1\n",
      "93234       1\n",
      "53222       1\n",
      "Name: asset_cost, Length: 45415, dtype: int64\n",
      "\n",
      "Unique values for Loan to Value of the asset\n",
      "85.00    4298\n",
      "84.99    1018\n",
      "79.99     536\n",
      "80.00     480\n",
      "75.00     415\n",
      "         ... \n",
      "28.19       1\n",
      "31.91       1\n",
      "28.20       1\n",
      "22.93       1\n",
      "30.64       1\n",
      "Name: Loan to Value of the asset, Length: 6541, dtype: int64\n",
      "\n",
      "Unique values for Bureau Score\n",
      "0      111773\n",
      "300      8632\n",
      "738      8473\n",
      "825      7196\n",
      "15       3671\n",
      "        ...  \n",
      "838         1\n",
      "847         1\n",
      "884         1\n",
      "867         1\n",
      "822         1\n",
      "Name: Bureau Score, Length: 573, dtype: int64\n",
      "\n",
      "Unique values for PRI.NO.OF.ACCTS\n",
      "0      111773\n",
      "1       34154\n",
      "2       19426\n",
      "3       12787\n",
      "4        9159\n",
      "        ...  \n",
      "86          1\n",
      "85          1\n",
      "147         1\n",
      "453         1\n",
      "124         1\n",
      "Name: PRI.NO.OF.ACCTS, Length: 107, dtype: int64\n",
      "\n",
      "Unique values for PRI.ACTIVE.ACCTS\n",
      "0      131395\n",
      "1       41050\n",
      "2       21138\n",
      "3       12044\n",
      "4        7306\n",
      "5        4447\n",
      "6        2741\n",
      "7        1766\n",
      "8        1171\n",
      "9         740\n",
      "10        506\n",
      "11        326\n",
      "12        225\n",
      "13        175\n",
      "14        119\n",
      "15         93\n",
      "17         54\n",
      "16         52\n",
      "18         31\n",
      "19         27\n",
      "20         13\n",
      "22         10\n",
      "23         10\n",
      "24         10\n",
      "21          9\n",
      "25          6\n",
      "26          6\n",
      "28          4\n",
      "27          3\n",
      "31          2\n",
      "32          2\n",
      "34          2\n",
      "35          2\n",
      "37          2\n",
      "43          1\n",
      "52          1\n",
      "144         1\n",
      "42          1\n",
      "39          1\n",
      "65          1\n",
      "Name: PRI.ACTIVE.ACCTS, dtype: int64\n",
      "\n",
      "Unique values for PRI.OVERDUE.ACCTS\n",
      "0     199703\n",
      "1      19596\n",
      "2       4226\n",
      "3       1175\n",
      "4        399\n",
      "5        165\n",
      "6         96\n",
      "7         38\n",
      "8         26\n",
      "9         24\n",
      "11        12\n",
      "12         8\n",
      "10         6\n",
      "13         5\n",
      "14         5\n",
      "17         2\n",
      "18         2\n",
      "15         1\n",
      "16         1\n",
      "19         1\n",
      "23         1\n",
      "25         1\n",
      "Name: PRI.OVERDUE.ACCTS, dtype: int64\n",
      "\n",
      "Unique values for PRI.CURRENT.BALANCE\n",
      "0          136011\n",
      "800           120\n",
      "400           119\n",
      "30000          99\n",
      "50000          80\n",
      "            ...  \n",
      "55087           1\n",
      "12080           1\n",
      "484199          1\n",
      "14131           1\n",
      "3541641         1\n",
      "Name: PRI.CURRENT.BALANCE, Length: 70044, dtype: int64\n",
      "\n",
      "Unique values for PRI.SANCTIONED.AMOUNT\n",
      "0         132449\n",
      "50000       1456\n",
      "30000       1406\n",
      "100000       942\n",
      "25000        935\n",
      "           ...  \n",
      "102404         1\n",
      "380940         1\n",
      "901134         1\n",
      "335890         1\n",
      "127102         1\n",
      "Name: PRI.SANCTIONED.AMOUNT, Length: 43743, dtype: int64\n",
      "\n",
      "Unique values for PRI.DISBURSED.AMOUNT\n",
      "0         132559\n",
      "50000       1354\n",
      "30000       1302\n",
      "100000       917\n",
      "40000        764\n",
      "           ...  \n",
      "470865         1\n",
      "180067         1\n",
      "135029         1\n",
      "380813         1\n",
      "560430         1\n",
      "Name: PRI.DISBURSED.AMOUNT, Length: 47206, dtype: int64\n",
      "\n",
      "Unique values for SEC.NO.OF.ACCTS\n",
      "0     219731\n",
      "1       3396\n",
      "2       1022\n",
      "3        438\n",
      "4        289\n",
      "5        147\n",
      "6        115\n",
      "7         75\n",
      "8         67\n",
      "9         37\n",
      "10        35\n",
      "11        29\n",
      "13        16\n",
      "12        12\n",
      "14        11\n",
      "16        11\n",
      "15        10\n",
      "18         6\n",
      "17         5\n",
      "19         5\n",
      "20         4\n",
      "22         4\n",
      "23         4\n",
      "31         4\n",
      "21         3\n",
      "24         2\n",
      "46         2\n",
      "30         2\n",
      "34         2\n",
      "38         2\n",
      "37         1\n",
      "42         1\n",
      "29         1\n",
      "35         1\n",
      "28         1\n",
      "25         1\n",
      "52         1\n",
      "Name: SEC.NO.OF.ACCTS, dtype: int64\n",
      "\n",
      "Unique values for SEC.ACTIVE.ACCTS\n",
      "0     221737\n",
      "1       2637\n",
      "2        627\n",
      "3        193\n",
      "4        116\n",
      "5         64\n",
      "6         32\n",
      "7         22\n",
      "8         17\n",
      "9         10\n",
      "10         9\n",
      "11         7\n",
      "12         5\n",
      "15         4\n",
      "13         3\n",
      "16         2\n",
      "22         2\n",
      "14         1\n",
      "17         1\n",
      "20         1\n",
      "21         1\n",
      "26         1\n",
      "36         1\n",
      "Name: SEC.ACTIVE.ACCTS, dtype: int64\n",
      "\n",
      "Unique values for SEC.OVERDUE.ACCTS\n",
      "0    224183\n",
      "1      1104\n",
      "2       124\n",
      "3        47\n",
      "4        19\n",
      "5         8\n",
      "6         6\n",
      "7         1\n",
      "8         1\n",
      "Name: SEC.OVERDUE.ACCTS, dtype: int64\n",
      "\n",
      "Unique values for SEC.CURRENT.BALANCE\n",
      "0        222182\n",
      "800          10\n",
      "400           8\n",
      "100           8\n",
      "1200          6\n",
      "          ...  \n",
      "26144         1\n",
      "11817         1\n",
      "24359         1\n",
      "59184         1\n",
      "2047          1\n",
      "Name: SEC.CURRENT.BALANCE, Length: 3197, dtype: int64\n",
      "\n",
      "Unique values for SEC.SANCTIONED.AMOUNT\n",
      "0          221816\n",
      "50000          82\n",
      "100000         60\n",
      "30000          43\n",
      "200000         38\n",
      "            ...  \n",
      "14250           1\n",
      "18340           1\n",
      "337800          1\n",
      "26400           1\n",
      "2349509         1\n",
      "Name: SEC.SANCTIONED.AMOUNT, Length: 2195, dtype: int64\n",
      "\n",
      "Unique values for SEC.DISBURSED.AMOUNT\n",
      "0          221846\n",
      "50000          58\n",
      "100000         46\n",
      "200000         36\n",
      "40000          29\n",
      "            ...  \n",
      "12840           1\n",
      "2064990         1\n",
      "19239           1\n",
      "267052          1\n",
      "42859           1\n",
      "Name: SEC.DISBURSED.AMOUNT, Length: 2519, dtype: int64\n",
      "\n",
      "Unique values for Primary_EMI\n",
      "0        153544\n",
      "1620        287\n",
      "1500        152\n",
      "2000        140\n",
      "1600        139\n",
      "          ...  \n",
      "21894         1\n",
      "23943         1\n",
      "11579         1\n",
      "13624         1\n",
      "53158         1\n",
      "Name: Primary_EMI, Length: 27608, dtype: int64\n",
      "\n",
      "Unique values for Secondary_EMI\n",
      "0        223313\n",
      "2100          7\n",
      "1100          6\n",
      "1232          6\n",
      "1065          6\n",
      "          ...  \n",
      "31139         1\n",
      "2349          1\n",
      "44            1\n",
      "22567         1\n",
      "1919          1\n",
      "Name: Secondary_EMI, Length: 1890, dtype: int64\n",
      "\n",
      "Unique values for NEW.ACCTS.IN.LAST.SIX.MONTHS\n",
      "0     174944\n",
      "1      31361\n",
      "2      10806\n",
      "3       4375\n",
      "4       1918\n",
      "5        947\n",
      "6        473\n",
      "7        293\n",
      "8        143\n",
      "9         78\n",
      "10        54\n",
      "11        30\n",
      "12        20\n",
      "13        15\n",
      "14        11\n",
      "16         6\n",
      "17         5\n",
      "15         2\n",
      "18         2\n",
      "19         2\n",
      "20         2\n",
      "23         2\n",
      "21         1\n",
      "22         1\n",
      "28         1\n",
      "35         1\n",
      "Name: NEW.ACCTS.IN.LAST.SIX.MONTHS, dtype: int64\n",
      "\n",
      "Unique values for Default_Acct_in_6_months\n",
      "0     207647\n",
      "1      14680\n",
      "2       2405\n",
      "3        519\n",
      "4        136\n",
      "5         56\n",
      "6         20\n",
      "7         12\n",
      "8          7\n",
      "11         3\n",
      "12         3\n",
      "9          2\n",
      "10         2\n",
      "20         1\n",
      "Name: Default_Acct_in_6_months, dtype: int64\n",
      "\n",
      "Unique values for Average_Tenure\n",
      "0      114135\n",
      "6        5907\n",
      "7        5254\n",
      "11       5110\n",
      "10       5005\n",
      "        ...  \n",
      "270         1\n",
      "292         1\n",
      "227         1\n",
      "158         1\n",
      "192         1\n",
      "Name: Average_Tenure, Length: 192, dtype: int64\n",
      "\n",
      "Unique values for CREDIT.HISTORY.LENGTH\n",
      "0      113894\n",
      "6        4670\n",
      "25       4596\n",
      "7        3952\n",
      "24       3711\n",
      "        ...  \n",
      "320         1\n",
      "369         1\n",
      "423         1\n",
      "261         1\n",
      "337         1\n",
      "Name: CREDIT.HISTORY.LENGTH, Length: 291, dtype: int64\n",
      "\n",
      "Unique values for NO.OF_INQUIRIES\n",
      "0     194990\n",
      "1      21794\n",
      "2       5294\n",
      "3       1724\n",
      "4        745\n",
      "5        331\n",
      "6        234\n",
      "7        133\n",
      "8        103\n",
      "9         41\n",
      "10        33\n",
      "11        15\n",
      "12        14\n",
      "14         8\n",
      "15         7\n",
      "19         6\n",
      "13         5\n",
      "17         4\n",
      "18         4\n",
      "16         3\n",
      "20         1\n",
      "22         1\n",
      "23         1\n",
      "28         1\n",
      "36         1\n",
      "Name: NO.OF_INQUIRIES, dtype: int64\n",
      "\n",
      "Unique values for Age\n",
      "23    10372\n",
      "24    10215\n",
      "22    10047\n",
      "25     9991\n",
      "26     9975\n",
      "28     9783\n",
      "27     9403\n",
      "30     8958\n",
      "29     8828\n",
      "31     8557\n",
      "21     8214\n",
      "32     8196\n",
      "33     7757\n",
      "34     7206\n",
      "35     7082\n",
      "36     6750\n",
      "38     6572\n",
      "37     6207\n",
      "40     5738\n",
      "42     5527\n",
      "39     5526\n",
      "43     5419\n",
      "41     5323\n",
      "44     4539\n",
      "45     4454\n",
      "46     4149\n",
      "48     3938\n",
      "47     3732\n",
      "49     3044\n",
      "50     2978\n",
      "51     2474\n",
      "52     2290\n",
      "53     2251\n",
      "54     1711\n",
      "55     1547\n",
      "56     1382\n",
      "58     1210\n",
      "57     1173\n",
      "20      794\n",
      "59      739\n",
      "60      594\n",
      "61      399\n",
      "62      299\n",
      "63      134\n",
      "64       16\n",
      "Name: Age, dtype: int64\n",
      "\n"
     ]
    }
   ],
   "source": [
    "intcolumns = ['disbursed_amount','asset_cost','Loan to Value of the asset','Bureau Score','PRI.NO.OF.ACCTS','PRI.ACTIVE.ACCTS','PRI.OVERDUE.ACCTS','PRI.CURRENT.BALANCE','PRI.SANCTIONED.AMOUNT','PRI.DISBURSED.AMOUNT','SEC.NO.OF.ACCTS','SEC.ACTIVE.ACCTS','SEC.OVERDUE.ACCTS','SEC.CURRENT.BALANCE','SEC.SANCTIONED.AMOUNT','SEC.DISBURSED.AMOUNT','Primary_EMI','Secondary_EMI','NEW.ACCTS.IN.LAST.SIX.MONTHS','Default_Acct_in_6_months','Average_Tenure','CREDIT.HISTORY.LENGTH','NO.OF_INQUIRIES','Age']\n",
    "for col in intcolumns:\n",
    "    print('Unique values for ' + col)\n",
    "    print(ldd[col].value_counts())\n",
    "    print('')"
   ]
  },
  {
   "cell_type": "code",
   "execution_count": 27,
   "id": "documentary-violence",
   "metadata": {},
   "outputs": [
    {
     "name": "stdout",
     "output_type": "stream",
     "text": [
      "Unique values for branch_id\n",
      "2      13003\n",
      "67     10858\n",
      "3       9214\n",
      "5       9096\n",
      "36      8818\n",
      "       ...  \n",
      "217      183\n",
      "261      176\n",
      "84       152\n",
      "111       76\n",
      "158       67\n",
      "Name: branch_id, Length: 82, dtype: int64\n",
      "\n",
      "Unique values for supplier_id\n",
      "18317    1319\n",
      "17980    1252\n",
      "14234    1241\n",
      "15663    1237\n",
      "15694    1154\n",
      "         ... \n",
      "20931       1\n",
      "17790       1\n",
      "22942       1\n",
      "22954       1\n",
      "18218       1\n",
      "Name: supplier_id, Length: 2945, dtype: int64\n",
      "\n",
      "Unique values for manufacturer_id\n",
      "86     106062\n",
      "45      55207\n",
      "51      26243\n",
      "48      15721\n",
      "49       9700\n",
      "120      9417\n",
      "67       2366\n",
      "145       760\n",
      "153        11\n",
      "152         5\n",
      "156         1\n",
      "Name: manufacturer_id, dtype: int64\n",
      "\n",
      "Unique values for Employment.Type\n",
      "Self employed    127635\n",
      "Salaried          97858\n",
      "Name: Employment.Type, dtype: int64\n",
      "\n",
      "Unique values for State_ID\n",
      "4     44234\n",
      "6     32958\n",
      "3     31640\n",
      "13    17858\n",
      "9     15690\n",
      "8     13193\n",
      "5     10046\n",
      "1      8922\n",
      "14     8169\n",
      "7      6722\n",
      "11     6675\n",
      "18     5406\n",
      "15     5032\n",
      "12     4054\n",
      "2      4049\n",
      "10     3465\n",
      "17     3352\n",
      "16     2667\n",
      "19      952\n",
      "20      182\n",
      "21      152\n",
      "22       75\n",
      "Name: State_ID, dtype: int64\n",
      "\n",
      "Unique values for Employee_code_ID\n",
      "2546    628\n",
      "620     502\n",
      "255     492\n",
      "130     408\n",
      "2153    401\n",
      "       ... \n",
      "3746      1\n",
      "3747      1\n",
      "3749      1\n",
      "3462      1\n",
      "3795      1\n",
      "Name: Employee_code_ID, Length: 3269, dtype: int64\n",
      "\n",
      "Unique values for Bureau score description\n",
      "0    124253\n",
      "1     49671\n",
      "2     17906\n",
      "3     12135\n",
      "4     11774\n",
      "5      9754\n",
      "Name: Bureau score description, dtype: int64\n",
      "\n",
      "Unique values for loan_default\n",
      "0    176526\n",
      "1     48967\n",
      "Name: loan_default, dtype: int64\n",
      "\n"
     ]
    }
   ],
   "source": [
    "categorycolumns=['branch_id','supplier_id','manufacturer_id','Employment.Type','State_ID','Employee_code_ID','Bureau score description','loan_default']\n",
    "for col in categorycolumns:\n",
    "    print('Unique values for ' + col)\n",
    "    print(ldd[col].value_counts())\n",
    "    print('')"
   ]
  },
  {
   "cell_type": "markdown",
   "id": "typical-mercury",
   "metadata": {},
   "source": [
    "# Summary Statistics <a id='sum'></a>"
   ]
  },
  {
   "cell_type": "code",
   "execution_count": 28,
   "id": "beautiful-treasurer",
   "metadata": {},
   "outputs": [
    {
     "data": {
      "text/html": [
       "<b>Table 1: Summary of continuous features</b>"
      ],
      "text/plain": [
       "<IPython.core.display.HTML object>"
      ]
     },
     "metadata": {},
     "output_type": "display_data"
    },
    {
     "data": {
      "text/html": [
       "<div>\n",
       "<style scoped>\n",
       "    .dataframe tbody tr th:only-of-type {\n",
       "        vertical-align: middle;\n",
       "    }\n",
       "\n",
       "    .dataframe tbody tr th {\n",
       "        vertical-align: top;\n",
       "    }\n",
       "\n",
       "    .dataframe thead th {\n",
       "        text-align: right;\n",
       "    }\n",
       "</style>\n",
       "<table border=\"1\" class=\"dataframe\">\n",
       "  <thead>\n",
       "    <tr style=\"text-align: right;\">\n",
       "      <th></th>\n",
       "      <th>disbursed_amount</th>\n",
       "      <th>asset_cost</th>\n",
       "      <th>Loan to Value of the asset</th>\n",
       "      <th>MobileNo_Avl_Flag</th>\n",
       "      <th>Aadhar_flag</th>\n",
       "      <th>PAN_flag</th>\n",
       "      <th>VoterID_flag</th>\n",
       "      <th>Driving_flag</th>\n",
       "      <th>Passport_flag</th>\n",
       "      <th>Bureau Score</th>\n",
       "      <th>PRI.NO.OF.ACCTS</th>\n",
       "      <th>PRI.ACTIVE.ACCTS</th>\n",
       "      <th>PRI.OVERDUE.ACCTS</th>\n",
       "      <th>PRI.CURRENT.BALANCE</th>\n",
       "      <th>PRI.SANCTIONED.AMOUNT</th>\n",
       "      <th>PRI.DISBURSED.AMOUNT</th>\n",
       "      <th>SEC.NO.OF.ACCTS</th>\n",
       "      <th>SEC.ACTIVE.ACCTS</th>\n",
       "      <th>SEC.OVERDUE.ACCTS</th>\n",
       "      <th>SEC.CURRENT.BALANCE</th>\n",
       "      <th>SEC.SANCTIONED.AMOUNT</th>\n",
       "      <th>SEC.DISBURSED.AMOUNT</th>\n",
       "      <th>Primary_EMI</th>\n",
       "      <th>Secondary_EMI</th>\n",
       "      <th>NEW.ACCTS.IN.LAST.SIX.MONTHS</th>\n",
       "      <th>Default_Acct_in_6_months</th>\n",
       "      <th>Average_Tenure</th>\n",
       "      <th>CREDIT.HISTORY.LENGTH</th>\n",
       "      <th>NO.OF_INQUIRIES</th>\n",
       "      <th>Age</th>\n",
       "    </tr>\n",
       "  </thead>\n",
       "  <tbody>\n",
       "    <tr>\n",
       "      <th>count</th>\n",
       "      <td>225493.00</td>\n",
       "      <td>225493.00</td>\n",
       "      <td>225493.00</td>\n",
       "      <td>225493.0</td>\n",
       "      <td>225493.00</td>\n",
       "      <td>225493.00</td>\n",
       "      <td>225493.00</td>\n",
       "      <td>225493.00</td>\n",
       "      <td>225493.00</td>\n",
       "      <td>225493.00</td>\n",
       "      <td>225493.00</td>\n",
       "      <td>225493.00</td>\n",
       "      <td>225493.00</td>\n",
       "      <td>225493.00</td>\n",
       "      <td>2.254930e+05</td>\n",
       "      <td>2.254930e+05</td>\n",
       "      <td>225493.00</td>\n",
       "      <td>225493.00</td>\n",
       "      <td>225493.00</td>\n",
       "      <td>225493.00</td>\n",
       "      <td>225493.00</td>\n",
       "      <td>225493.00</td>\n",
       "      <td>225493.00</td>\n",
       "      <td>225493.00</td>\n",
       "      <td>225493.00</td>\n",
       "      <td>225493.00</td>\n",
       "      <td>225493.00</td>\n",
       "      <td>225493.00</td>\n",
       "      <td>225493.00</td>\n",
       "      <td>225493.00</td>\n",
       "    </tr>\n",
       "    <tr>\n",
       "      <th>mean</th>\n",
       "      <td>54240.73</td>\n",
       "      <td>75631.13</td>\n",
       "      <td>74.81</td>\n",
       "      <td>1.0</td>\n",
       "      <td>0.84</td>\n",
       "      <td>0.08</td>\n",
       "      <td>0.15</td>\n",
       "      <td>0.02</td>\n",
       "      <td>0.00</td>\n",
       "      <td>293.04</td>\n",
       "      <td>2.46</td>\n",
       "      <td>1.05</td>\n",
       "      <td>0.16</td>\n",
       "      <td>168481.32</td>\n",
       "      <td>2.220736e+05</td>\n",
       "      <td>2.216098e+05</td>\n",
       "      <td>0.06</td>\n",
       "      <td>0.03</td>\n",
       "      <td>0.01</td>\n",
       "      <td>5569.68</td>\n",
       "      <td>7489.19</td>\n",
       "      <td>7371.10</td>\n",
       "      <td>12992.46</td>\n",
       "      <td>325.68</td>\n",
       "      <td>0.39</td>\n",
       "      <td>0.10</td>\n",
       "      <td>9.03</td>\n",
       "      <td>16.45</td>\n",
       "      <td>0.21</td>\n",
       "      <td>34.25</td>\n",
       "    </tr>\n",
       "    <tr>\n",
       "      <th>std</th>\n",
       "      <td>12775.59</td>\n",
       "      <td>18527.58</td>\n",
       "      <td>11.44</td>\n",
       "      <td>0.0</td>\n",
       "      <td>0.37</td>\n",
       "      <td>0.27</td>\n",
       "      <td>0.35</td>\n",
       "      <td>0.15</td>\n",
       "      <td>0.05</td>\n",
       "      <td>338.87</td>\n",
       "      <td>5.22</td>\n",
       "      <td>1.95</td>\n",
       "      <td>0.55</td>\n",
       "      <td>951669.17</td>\n",
       "      <td>2.411722e+06</td>\n",
       "      <td>2.414697e+06</td>\n",
       "      <td>0.63</td>\n",
       "      <td>0.32</td>\n",
       "      <td>0.11</td>\n",
       "      <td>172928.13</td>\n",
       "      <td>186043.25</td>\n",
       "      <td>185470.31</td>\n",
       "      <td>149708.43</td>\n",
       "      <td>15756.17</td>\n",
       "      <td>0.96</td>\n",
       "      <td>0.39</td>\n",
       "      <td>15.16</td>\n",
       "      <td>28.68</td>\n",
       "      <td>0.71</td>\n",
       "      <td>9.69</td>\n",
       "    </tr>\n",
       "    <tr>\n",
       "      <th>min</th>\n",
       "      <td>13320.00</td>\n",
       "      <td>37000.00</td>\n",
       "      <td>13.50</td>\n",
       "      <td>1.0</td>\n",
       "      <td>0.00</td>\n",
       "      <td>0.00</td>\n",
       "      <td>0.00</td>\n",
       "      <td>0.00</td>\n",
       "      <td>0.00</td>\n",
       "      <td>0.00</td>\n",
       "      <td>0.00</td>\n",
       "      <td>0.00</td>\n",
       "      <td>0.00</td>\n",
       "      <td>-6678296.00</td>\n",
       "      <td>0.000000e+00</td>\n",
       "      <td>0.000000e+00</td>\n",
       "      <td>0.00</td>\n",
       "      <td>0.00</td>\n",
       "      <td>0.00</td>\n",
       "      <td>-574647.00</td>\n",
       "      <td>0.00</td>\n",
       "      <td>0.00</td>\n",
       "      <td>0.00</td>\n",
       "      <td>0.00</td>\n",
       "      <td>0.00</td>\n",
       "      <td>0.00</td>\n",
       "      <td>0.00</td>\n",
       "      <td>0.00</td>\n",
       "      <td>0.00</td>\n",
       "      <td>20.00</td>\n",
       "    </tr>\n",
       "    <tr>\n",
       "      <th>25%</th>\n",
       "      <td>47049.00</td>\n",
       "      <td>65625.00</td>\n",
       "      <td>68.96</td>\n",
       "      <td>1.0</td>\n",
       "      <td>1.00</td>\n",
       "      <td>0.00</td>\n",
       "      <td>0.00</td>\n",
       "      <td>0.00</td>\n",
       "      <td>0.00</td>\n",
       "      <td>0.00</td>\n",
       "      <td>0.00</td>\n",
       "      <td>0.00</td>\n",
       "      <td>0.00</td>\n",
       "      <td>0.00</td>\n",
       "      <td>0.000000e+00</td>\n",
       "      <td>0.000000e+00</td>\n",
       "      <td>0.00</td>\n",
       "      <td>0.00</td>\n",
       "      <td>0.00</td>\n",
       "      <td>0.00</td>\n",
       "      <td>0.00</td>\n",
       "      <td>0.00</td>\n",
       "      <td>0.00</td>\n",
       "      <td>0.00</td>\n",
       "      <td>0.00</td>\n",
       "      <td>0.00</td>\n",
       "      <td>0.00</td>\n",
       "      <td>0.00</td>\n",
       "      <td>0.00</td>\n",
       "      <td>26.00</td>\n",
       "    </tr>\n",
       "    <tr>\n",
       "      <th>50%</th>\n",
       "      <td>53703.00</td>\n",
       "      <td>70807.00</td>\n",
       "      <td>76.89</td>\n",
       "      <td>1.0</td>\n",
       "      <td>1.00</td>\n",
       "      <td>0.00</td>\n",
       "      <td>0.00</td>\n",
       "      <td>0.00</td>\n",
       "      <td>0.00</td>\n",
       "      <td>15.00</td>\n",
       "      <td>1.00</td>\n",
       "      <td>0.00</td>\n",
       "      <td>0.00</td>\n",
       "      <td>0.00</td>\n",
       "      <td>0.000000e+00</td>\n",
       "      <td>0.000000e+00</td>\n",
       "      <td>0.00</td>\n",
       "      <td>0.00</td>\n",
       "      <td>0.00</td>\n",
       "      <td>0.00</td>\n",
       "      <td>0.00</td>\n",
       "      <td>0.00</td>\n",
       "      <td>0.00</td>\n",
       "      <td>0.00</td>\n",
       "      <td>0.00</td>\n",
       "      <td>0.00</td>\n",
       "      <td>0.00</td>\n",
       "      <td>0.00</td>\n",
       "      <td>0.00</td>\n",
       "      <td>32.00</td>\n",
       "    </tr>\n",
       "    <tr>\n",
       "      <th>75%</th>\n",
       "      <td>60213.00</td>\n",
       "      <td>78966.00</td>\n",
       "      <td>83.73</td>\n",
       "      <td>1.0</td>\n",
       "      <td>1.00</td>\n",
       "      <td>0.00</td>\n",
       "      <td>0.00</td>\n",
       "      <td>0.00</td>\n",
       "      <td>0.00</td>\n",
       "      <td>680.00</td>\n",
       "      <td>3.00</td>\n",
       "      <td>1.00</td>\n",
       "      <td>0.00</td>\n",
       "      <td>36300.00</td>\n",
       "      <td>6.490000e+04</td>\n",
       "      <td>6.299000e+04</td>\n",
       "      <td>0.00</td>\n",
       "      <td>0.00</td>\n",
       "      <td>0.00</td>\n",
       "      <td>0.00</td>\n",
       "      <td>0.00</td>\n",
       "      <td>0.00</td>\n",
       "      <td>2045.00</td>\n",
       "      <td>0.00</td>\n",
       "      <td>0.00</td>\n",
       "      <td>0.00</td>\n",
       "      <td>13.00</td>\n",
       "      <td>24.00</td>\n",
       "      <td>0.00</td>\n",
       "      <td>41.00</td>\n",
       "    </tr>\n",
       "    <tr>\n",
       "      <th>max</th>\n",
       "      <td>987354.00</td>\n",
       "      <td>1328954.00</td>\n",
       "      <td>95.00</td>\n",
       "      <td>1.0</td>\n",
       "      <td>1.00</td>\n",
       "      <td>1.00</td>\n",
       "      <td>1.00</td>\n",
       "      <td>1.00</td>\n",
       "      <td>1.00</td>\n",
       "      <td>890.00</td>\n",
       "      <td>453.00</td>\n",
       "      <td>144.00</td>\n",
       "      <td>25.00</td>\n",
       "      <td>96524920.00</td>\n",
       "      <td>1.000000e+09</td>\n",
       "      <td>1.000000e+09</td>\n",
       "      <td>52.00</td>\n",
       "      <td>36.00</td>\n",
       "      <td>8.00</td>\n",
       "      <td>36032852.00</td>\n",
       "      <td>30000000.00</td>\n",
       "      <td>30000000.00</td>\n",
       "      <td>25642806.00</td>\n",
       "      <td>4170901.00</td>\n",
       "      <td>35.00</td>\n",
       "      <td>20.00</td>\n",
       "      <td>369.00</td>\n",
       "      <td>468.00</td>\n",
       "      <td>36.00</td>\n",
       "      <td>64.00</td>\n",
       "    </tr>\n",
       "  </tbody>\n",
       "</table>\n",
       "</div>"
      ],
      "text/plain": [
       "       disbursed_amount  asset_cost  Loan to Value of the asset  \\\n",
       "count         225493.00   225493.00                   225493.00   \n",
       "mean           54240.73    75631.13                       74.81   \n",
       "std            12775.59    18527.58                       11.44   \n",
       "min            13320.00    37000.00                       13.50   \n",
       "25%            47049.00    65625.00                       68.96   \n",
       "50%            53703.00    70807.00                       76.89   \n",
       "75%            60213.00    78966.00                       83.73   \n",
       "max           987354.00  1328954.00                       95.00   \n",
       "\n",
       "       MobileNo_Avl_Flag  Aadhar_flag   PAN_flag  VoterID_flag  Driving_flag  \\\n",
       "count           225493.0    225493.00  225493.00     225493.00     225493.00   \n",
       "mean                 1.0         0.84       0.08          0.15          0.02   \n",
       "std                  0.0         0.37       0.27          0.35          0.15   \n",
       "min                  1.0         0.00       0.00          0.00          0.00   \n",
       "25%                  1.0         1.00       0.00          0.00          0.00   \n",
       "50%                  1.0         1.00       0.00          0.00          0.00   \n",
       "75%                  1.0         1.00       0.00          0.00          0.00   \n",
       "max                  1.0         1.00       1.00          1.00          1.00   \n",
       "\n",
       "       Passport_flag  Bureau Score  PRI.NO.OF.ACCTS  PRI.ACTIVE.ACCTS  \\\n",
       "count      225493.00     225493.00        225493.00         225493.00   \n",
       "mean            0.00        293.04             2.46              1.05   \n",
       "std             0.05        338.87             5.22              1.95   \n",
       "min             0.00          0.00             0.00              0.00   \n",
       "25%             0.00          0.00             0.00              0.00   \n",
       "50%             0.00         15.00             1.00              0.00   \n",
       "75%             0.00        680.00             3.00              1.00   \n",
       "max             1.00        890.00           453.00            144.00   \n",
       "\n",
       "       PRI.OVERDUE.ACCTS  PRI.CURRENT.BALANCE  PRI.SANCTIONED.AMOUNT  \\\n",
       "count          225493.00            225493.00           2.254930e+05   \n",
       "mean                0.16            168481.32           2.220736e+05   \n",
       "std                 0.55            951669.17           2.411722e+06   \n",
       "min                 0.00          -6678296.00           0.000000e+00   \n",
       "25%                 0.00                 0.00           0.000000e+00   \n",
       "50%                 0.00                 0.00           0.000000e+00   \n",
       "75%                 0.00             36300.00           6.490000e+04   \n",
       "max                25.00          96524920.00           1.000000e+09   \n",
       "\n",
       "       PRI.DISBURSED.AMOUNT  SEC.NO.OF.ACCTS  SEC.ACTIVE.ACCTS  \\\n",
       "count          2.254930e+05        225493.00         225493.00   \n",
       "mean           2.216098e+05             0.06              0.03   \n",
       "std            2.414697e+06             0.63              0.32   \n",
       "min            0.000000e+00             0.00              0.00   \n",
       "25%            0.000000e+00             0.00              0.00   \n",
       "50%            0.000000e+00             0.00              0.00   \n",
       "75%            6.299000e+04             0.00              0.00   \n",
       "max            1.000000e+09            52.00             36.00   \n",
       "\n",
       "       SEC.OVERDUE.ACCTS  SEC.CURRENT.BALANCE  SEC.SANCTIONED.AMOUNT  \\\n",
       "count          225493.00            225493.00              225493.00   \n",
       "mean                0.01              5569.68                7489.19   \n",
       "std                 0.11            172928.13              186043.25   \n",
       "min                 0.00           -574647.00                   0.00   \n",
       "25%                 0.00                 0.00                   0.00   \n",
       "50%                 0.00                 0.00                   0.00   \n",
       "75%                 0.00                 0.00                   0.00   \n",
       "max                 8.00          36032852.00            30000000.00   \n",
       "\n",
       "       SEC.DISBURSED.AMOUNT  Primary_EMI  Secondary_EMI  \\\n",
       "count             225493.00    225493.00      225493.00   \n",
       "mean                7371.10     12992.46         325.68   \n",
       "std               185470.31    149708.43       15756.17   \n",
       "min                    0.00         0.00           0.00   \n",
       "25%                    0.00         0.00           0.00   \n",
       "50%                    0.00         0.00           0.00   \n",
       "75%                    0.00      2045.00           0.00   \n",
       "max             30000000.00  25642806.00     4170901.00   \n",
       "\n",
       "       NEW.ACCTS.IN.LAST.SIX.MONTHS  Default_Acct_in_6_months  Average_Tenure  \\\n",
       "count                     225493.00                 225493.00       225493.00   \n",
       "mean                           0.39                      0.10            9.03   \n",
       "std                            0.96                      0.39           15.16   \n",
       "min                            0.00                      0.00            0.00   \n",
       "25%                            0.00                      0.00            0.00   \n",
       "50%                            0.00                      0.00            0.00   \n",
       "75%                            0.00                      0.00           13.00   \n",
       "max                           35.00                     20.00          369.00   \n",
       "\n",
       "       CREDIT.HISTORY.LENGTH  NO.OF_INQUIRIES        Age  \n",
       "count              225493.00        225493.00  225493.00  \n",
       "mean                   16.45             0.21      34.25  \n",
       "std                    28.68             0.71       9.69  \n",
       "min                     0.00             0.00      20.00  \n",
       "25%                     0.00             0.00      26.00  \n",
       "50%                     0.00             0.00      32.00  \n",
       "75%                    24.00             0.00      41.00  \n",
       "max                   468.00            36.00      64.00  "
      ]
     },
     "execution_count": 28,
     "metadata": {},
     "output_type": "execute_result"
    }
   ],
   "source": [
    "from IPython.display import display, HTML\n",
    "display(HTML('<b>Table 1: Summary of continuous features</b>'))\n",
    "ldd.describe(include=np.number).round(2)"
   ]
  },
  {
   "cell_type": "code",
   "execution_count": 29,
   "id": "verbal-beach",
   "metadata": {},
   "outputs": [
    {
     "data": {
      "text/html": [
       "<b>Table 2: Summary of categorical features</b>"
      ],
      "text/plain": [
       "<IPython.core.display.HTML object>"
      ]
     },
     "metadata": {},
     "output_type": "display_data"
    },
    {
     "data": {
      "text/html": [
       "<div>\n",
       "<style scoped>\n",
       "    .dataframe tbody tr th:only-of-type {\n",
       "        vertical-align: middle;\n",
       "    }\n",
       "\n",
       "    .dataframe tbody tr th {\n",
       "        vertical-align: top;\n",
       "    }\n",
       "\n",
       "    .dataframe thead th {\n",
       "        text-align: right;\n",
       "    }\n",
       "</style>\n",
       "<table border=\"1\" class=\"dataframe\">\n",
       "  <thead>\n",
       "    <tr style=\"text-align: right;\">\n",
       "      <th></th>\n",
       "      <th>branch_id</th>\n",
       "      <th>supplier_id</th>\n",
       "      <th>manufacturer_id</th>\n",
       "      <th>Employment.Type</th>\n",
       "      <th>State_ID</th>\n",
       "      <th>Employee_code_ID</th>\n",
       "      <th>Bureau score description</th>\n",
       "      <th>loan_default</th>\n",
       "      <th>Age_group</th>\n",
       "    </tr>\n",
       "  </thead>\n",
       "  <tbody>\n",
       "    <tr>\n",
       "      <th>count</th>\n",
       "      <td>225493</td>\n",
       "      <td>225493</td>\n",
       "      <td>225493</td>\n",
       "      <td>225493</td>\n",
       "      <td>225493</td>\n",
       "      <td>225493</td>\n",
       "      <td>225493</td>\n",
       "      <td>225493</td>\n",
       "      <td>225493</td>\n",
       "    </tr>\n",
       "    <tr>\n",
       "      <th>unique</th>\n",
       "      <td>82</td>\n",
       "      <td>2945</td>\n",
       "      <td>11</td>\n",
       "      <td>2</td>\n",
       "      <td>22</td>\n",
       "      <td>3269</td>\n",
       "      <td>6</td>\n",
       "      <td>2</td>\n",
       "      <td>5</td>\n",
       "    </tr>\n",
       "    <tr>\n",
       "      <th>top</th>\n",
       "      <td>2</td>\n",
       "      <td>18317</td>\n",
       "      <td>86</td>\n",
       "      <td>Self employed</td>\n",
       "      <td>4</td>\n",
       "      <td>2546</td>\n",
       "      <td>0</td>\n",
       "      <td>0</td>\n",
       "      <td>20-29</td>\n",
       "    </tr>\n",
       "    <tr>\n",
       "      <th>freq</th>\n",
       "      <td>13003</td>\n",
       "      <td>1319</td>\n",
       "      <td>106062</td>\n",
       "      <td>127635</td>\n",
       "      <td>44234</td>\n",
       "      <td>628</td>\n",
       "      <td>124253</td>\n",
       "      <td>176526</td>\n",
       "      <td>87622</td>\n",
       "    </tr>\n",
       "  </tbody>\n",
       "</table>\n",
       "</div>"
      ],
      "text/plain": [
       "        branch_id  supplier_id  manufacturer_id Employment.Type  State_ID  \\\n",
       "count      225493       225493           225493          225493    225493   \n",
       "unique         82         2945               11               2        22   \n",
       "top             2        18317               86   Self employed         4   \n",
       "freq        13003         1319           106062          127635     44234   \n",
       "\n",
       "        Employee_code_ID  Bureau score description  loan_default Age_group  \n",
       "count             225493                    225493        225493    225493  \n",
       "unique              3269                         6             2         5  \n",
       "top                 2546                         0             0     20-29  \n",
       "freq                 628                    124253        176526     87622  "
      ]
     },
     "execution_count": 29,
     "metadata": {},
     "output_type": "execute_result"
    }
   ],
   "source": [
    "display(HTML('<b>Table 2: Summary of categorical features</b>'))\n",
    "ldd.describe(include='category').round(2)"
   ]
  },
  {
   "cell_type": "markdown",
   "id": "quality-bacteria",
   "metadata": {},
   "source": [
    "# Data Visualization and Exploration <a id='dv'></a>"
   ]
  },
  {
   "cell_type": "markdown",
   "id": "small-while",
   "metadata": {},
   "source": [
    "Our dataset can now be considered \"clean\" and ready for visualisation and statistical modeling."
   ]
  },
  {
   "cell_type": "markdown",
   "id": "younger-satisfaction",
   "metadata": {},
   "source": [
    "## Univariate Visualization <a id='uv'></a>"
   ]
  },
  {
   "cell_type": "markdown",
   "id": "apparent-belfast",
   "metadata": {},
   "source": [
    "Figure 1 describes a Box Plot of Age. As we can observe the mean age of the cutomers who took loan lies between 26 to 42 with a median age of approximately 34. "
   ]
  },
  {
   "cell_type": "code",
   "execution_count": 30,
   "id": "great-shopping",
   "metadata": {},
   "outputs": [
    {
     "data": {
      "text/plain": [
       "<seaborn.axisgrid.FacetGrid at 0x7fbb3b09f460>"
      ]
     },
     "execution_count": 30,
     "metadata": {},
     "output_type": "execute_result"
    },
    {
     "data": {
      "image/png": "[encoded data removed]",
      "text/plain": [
       "<Figure size 432x288 with 1 Axes>"
      ]
     },
     "metadata": {
      "needs_background": "light"
     },
     "output_type": "display_data"
    },
    {
     "data": {
      "image/png": "[encoded data removed]",
      "text/plain": [
       "<Figure size 360x360 with 1 Axes>"
      ]
     },
     "metadata": {
      "needs_background": "light"
     },
     "output_type": "display_data"
    }
   ],
   "source": [
    "sb.boxplot(data=ldd,x=Age).set_title('Figure 1: Plots of Age', fontsize = 15)\n",
    "sb.displot(data=ldd,x=Age,kde=True)"
   ]
  },
  {
   "cell_type": "markdown",
   "id": "floral-writing",
   "metadata": {},
   "source": [
    "Figure 2 suggests that the maximum loan value of the asset lies between 68.96 and 83.73 with an average value of 78.81.  The outliers are not removed because the loan value disbursed against asset value might be very low too due many factors like the customer might not need a big amount, the loan amount eligibility of the customer might be low and the customer must have availed whatever amount thats sanctioned."
   ]
  },
  {
   "cell_type": "code",
   "execution_count": 31,
   "id": "objective-theory",
   "metadata": {},
   "outputs": [
    {
     "data": {
      "text/plain": [
       "<seaborn.axisgrid.FacetGrid at 0x7fbb1a183fa0>"
      ]
     },
     "execution_count": 31,
     "metadata": {},
     "output_type": "execute_result"
    },
    {
     "data": {
      "image/png": "[encoded data removed]",
      "text/plain": [
       "<Figure size 432x288 with 1 Axes>"
      ]
     },
     "metadata": {
      "needs_background": "light"
     },
     "output_type": "display_data"
    },
    {
     "data": {
      "image/png": "[encoded data removed]",
      "text/plain": [
       "<Figure size 360x360 with 1 Axes>"
      ]
     },
     "metadata": {
      "needs_background": "light"
     },
     "output_type": "display_data"
    }
   ],
   "source": [
    "sb.boxplot(data=ldd,x='Loan to Value of the asset').set_title('Figure 2: Plots of Loan value to Asset value', fontsize = 15)\n",
    "sb.displot(data=ldd,x='Loan to Value of the asset',kde=True)"
   ]
  },
  {
   "cell_type": "markdown",
   "id": "broadband-soundtrack",
   "metadata": {},
   "source": [
    "Figure 3: The histogram of `Employment type` exhibit the count of salaried and self employed customers. From Figure 13 It can be observe that the number of self employed customers are as compared to salaried customers"
   ]
  },
  {
   "cell_type": "code",
   "execution_count": 32,
   "id": "literary-impression",
   "metadata": {},
   "outputs": [
    {
     "data": {
      "text/plain": [
       "Text(0.5, 1.0, 'Figure 3: Histogram of Employment type')"
      ]
     },
     "execution_count": 32,
     "metadata": {},
     "output_type": "execute_result"
    },
    {
     "data": {
      "image/png": "[encoded data removed]",
      "text/plain": [
       "<Figure size 432x288 with 1 Axes>"
      ]
     },
     "metadata": {
      "needs_background": "light"
     },
     "output_type": "display_data"
    }
   ],
   "source": [
    "sb.histplot(data=ldd,x='Employment.Type',shrink=0.8,hue='Employment.Type').set_title('Figure 3: Histogram of Employment type',fontsize=15)"
   ]
  },
  {
   "cell_type": "markdown",
   "id": "strong-sessions",
   "metadata": {},
   "source": [
    "Figure 4 displays a Histogram of `Loan Default`. As we can observe from Figure 4, most of the customers from our dataset failed to make the first EMI of the loan. "
   ]
  },
  {
   "cell_type": "code",
   "execution_count": 33,
   "id": "useful-appliance",
   "metadata": {},
   "outputs": [
    {
     "data": {
      "text/plain": [
       "Text(0.5, 1.0, 'Figure 4: Histogram of Loan Default')"
      ]
     },
     "execution_count": 33,
     "metadata": {},
     "output_type": "execute_result"
    },
    {
     "data": {
      "image/png": "[encoded data removed]",
      "text/plain": [
       "<Figure size 432x288 with 1 Axes>"
      ]
     },
     "metadata": {
      "needs_background": "light"
     },
     "output_type": "display_data"
    }
   ],
   "source": [
    "sb.countplot(data=ldd,x='loan_default').set_title('Figure 4: Histogram of Loan Default', fontsize = 15)"
   ]
  },
  {
   "cell_type": "markdown",
   "id": "rapid-pointer",
   "metadata": {},
   "source": [
    "Figure 5 displays a bar chart of `Bureau score description`. Figure 5 suggest that there were no `Bureau score description` allotted the the maximum number of customers who took the loan while least number of loans were allotted to the category 5 with `very high risk`."
   ]
  },
  {
   "cell_type": "code",
   "execution_count": 34,
   "id": "phantom-facility",
   "metadata": {},
   "outputs": [],
   "source": [
    "def count_plot(a):\n",
    "    sb.countplot(data=ldd,x=a)"
   ]
  },
  {
   "cell_type": "code",
   "execution_count": 35,
   "id": "mechanical-central",
   "metadata": {},
   "outputs": [
    {
     "data": {
      "text/plain": [
       "Text(0.5, 1.0, 'Figure 5: Histogram of Bureau score description')"
      ]
     },
     "execution_count": 35,
     "metadata": {},
     "output_type": "execute_result"
    },
    {
     "data": {
      "image/png": "[encoded data removed]",
      "text/plain": [
       "<Figure size 432x288 with 1 Axes>"
      ]
     },
     "metadata": {
      "needs_background": "light"
     },
     "output_type": "display_data"
    }
   ],
   "source": [
    "count_plot('Bureau score description')\n",
    "mpt.title('Figure 5: Histogram of Bureau score description', fontsize=15)"
   ]
  },
  {
   "cell_type": "markdown",
   "id": "funky-uncertainty",
   "metadata": {},
   "source": [
    "Figure 6 displays a histogram of `Age_group`. Figure 6 suggest that most number of loan were allotted to the age group 20-29 while lease number of loans were allotted to the age group 60-70."
   ]
  },
  {
   "cell_type": "code",
   "execution_count": 36,
   "id": "derived-enterprise",
   "metadata": {},
   "outputs": [
    {
     "data": {
      "text/plain": [
       "Text(0.5, 1.0, 'Figure 6: Histogram of Age group')"
      ]
     },
     "execution_count": 36,
     "metadata": {},
     "output_type": "execute_result"
    },
    {
     "data": {
      "image/png": "[encoded data removed]",
      "text/plain": [
       "<Figure size 432x288 with 1 Axes>"
      ]
     },
     "metadata": {
      "needs_background": "light"
     },
     "output_type": "display_data"
    }
   ],
   "source": [
    "count_plot('Age_group')\n",
    "mpt.title('Figure 6: Histogram of Age group', fontsize=15)"
   ]
  },
  {
   "cell_type": "markdown",
   "id": "absolute-australia",
   "metadata": {},
   "source": [
    "Figure 7 demonstrate that most number of loans were taken against the vehicle with `manufacturer_id`- 86 with 106062 counts  followed by IDs '45' and 51 with count 55207 and 26243 respectively, while least number of loans were taken against the vehicle with `manufacturer_id` '153', '152', '156' with count 1, 5 and 11 respectively."
   ]
  },
  {
   "cell_type": "code",
   "execution_count": 37,
   "id": "subsequent-geometry",
   "metadata": {},
   "outputs": [
    {
     "data": {
      "text/plain": [
       "Text(0.5, 1.0, 'Figure 7: Histogram of manufacturer id')"
      ]
     },
     "execution_count": 37,
     "metadata": {},
     "output_type": "execute_result"
    },
    {
     "data": {
      "image/png": "[encoded data removed]",
      "text/plain": [
       "<Figure size 432x288 with 1 Axes>"
      ]
     },
     "metadata": {
      "needs_background": "light"
     },
     "output_type": "display_data"
    }
   ],
   "source": [
    "count_plot('manufacturer_id')\n",
    "mpt.title('Figure 7: Histogram of manufacturer id', fontsize=15)"
   ]
  },
  {
   "cell_type": "markdown",
   "id": "fabulous-knock",
   "metadata": {},
   "source": [
    "Figure 8 illustrate the count of loan sanctioned by `State_ID`. The most number of loan were sanctioned from the state with state ID `4` while least number of loans were sanctioned from the sate with state_ID `22`"
   ]
  },
  {
   "cell_type": "code",
   "execution_count": 38,
   "id": "statutory-secretary",
   "metadata": {},
   "outputs": [
    {
     "data": {
      "text/plain": [
       "Text(0.5, 1.0, 'Figure 8: Histogram of State ID')"
      ]
     },
     "execution_count": 38,
     "metadata": {},
     "output_type": "execute_result"
    },
    {
     "data": {
      "image/png": "[encoded data removed]",
      "text/plain": [
       "<Figure size 432x288 with 1 Axes>"
      ]
     },
     "metadata": {
      "needs_background": "light"
     },
     "output_type": "display_data"
    }
   ],
   "source": [
    "count_plot('State_ID')\n",
    "mpt.title('Figure 8: Histogram of State ID', fontsize=15)"
   ]
  },
  {
   "cell_type": "markdown",
   "id": "digital-evans",
   "metadata": {},
   "source": [
    "Figure 9 suggests that most number of loans were sanctioned from the `branch_id` - '2'  with a count of 13003 while the least number of loan were sanctioned by the branch with `branch_id` - '158'"
   ]
  },
  {
   "cell_type": "code",
   "execution_count": 39,
   "id": "temporal-aberdeen",
   "metadata": {},
   "outputs": [
    {
     "data": {
      "text/plain": [
       "Text(0.5, 1.0, 'Figure 9: Histogram of Branch ID')"
      ]
     },
     "execution_count": 39,
     "metadata": {},
     "output_type": "execute_result"
    },
    {
     "data": {
      "image/png": "[encoded data removed]",
      "text/plain": [
       "<Figure size 2160x504 with 1 Axes>"
      ]
     },
     "metadata": {
      "needs_background": "light"
     },
     "output_type": "display_data"
    }
   ],
   "source": [
    "mpt.figure(figsize=(30, 7))\n",
    "sb.countplot(x=\"branch_id\", data=ldd)\n",
    "mpt.title('Figure 9: Histogram of Branch ID', fontsize=20)"
   ]
  },
  {
   "cell_type": "markdown",
   "id": "olive-purchase",
   "metadata": {},
   "source": [
    "From figure 10 we can observe that the more than 80% of the customer have not opened a new count in last 6 months."
   ]
  },
  {
   "cell_type": "code",
   "execution_count": 40,
   "id": "friendly-thanks",
   "metadata": {},
   "outputs": [
    {
     "data": {
      "text/plain": [
       "Text(0.5, 1.0, 'Figure 10: Histogram of New accounts in last 6 months')"
      ]
     },
     "execution_count": 40,
     "metadata": {},
     "output_type": "execute_result"
    },
    {
     "data": {
      "image/png": "[encoded data removed]",
      "text/plain": [
       "<Figure size 432x288 with 1 Axes>"
      ]
     },
     "metadata": {
      "needs_background": "light"
     },
     "output_type": "display_data"
    }
   ],
   "source": [
    "count_plot('NEW.ACCTS.IN.LAST.SIX.MONTHS')\n",
    "mpt.title('Figure 10: Histogram of New accounts in last 6 months', fontsize=15)"
   ]
  },
  {
   "cell_type": "markdown",
   "id": "modified-killing",
   "metadata": {},
   "source": [
    "From figure 11 more than 80% of the customers doesn't have default account in last 6 months."
   ]
  },
  {
   "cell_type": "code",
   "execution_count": 41,
   "id": "excited-muscle",
   "metadata": {},
   "outputs": [
    {
     "data": {
      "text/plain": [
       "Text(0.5, 1.0, 'Figure 11: Histogram of default account in 6 months')"
      ]
     },
     "execution_count": 41,
     "metadata": {},
     "output_type": "execute_result"
    },
    {
     "data": {
      "image/png": "[encoded data removed]",
      "text/plain": [
       "<Figure size 432x288 with 1 Axes>"
      ]
     },
     "metadata": {
      "needs_background": "light"
     },
     "output_type": "display_data"
    }
   ],
   "source": [
    "count_plot('Default_Acct_in_6_months')\n",
    "mpt.title('Figure 11: Histogram of default account in 6 months', fontsize=15)"
   ]
  },
  {
   "cell_type": "markdown",
   "id": "suspended-specialist",
   "metadata": {},
   "source": [
    "## Multivariate Visualization <a id='mv'></a>"
   ]
  },
  {
   "cell_type": "markdown",
   "id": "alpha-master",
   "metadata": {},
   "source": [
    "Figure 12 Illustrates the number of time a customer made an inquiry for loan classified into the customers Employment type.\n"
   ]
  },
  {
   "cell_type": "code",
   "execution_count": 42,
   "id": "narrow-member",
   "metadata": {},
   "outputs": [
    {
     "data": {
      "text/plain": [
       "Text(0.5, 1.0, 'Figure 12: No of Enquiries vs. Employment Type')"
      ]
     },
     "execution_count": 42,
     "metadata": {},
     "output_type": "execute_result"
    },
    {
     "data": {
      "image/png": "[encoded data removed]",
      "text/plain": [
       "<Figure size 1080x360 with 1 Axes>"
      ]
     },
     "metadata": {
      "needs_background": "light"
     },
     "output_type": "display_data"
    }
   ],
   "source": [
    "mpt.figure(figsize=(15, 5))\n",
    "sb.histplot(data=ldd,x='NO.OF_INQUIRIES',hue='Employment.Type',multiple=\"dodge\")\n",
    "mpt.title('Figure 12: No of Enquiries vs. Employment Type', fontsize=15)"
   ]
  },
  {
   "cell_type": "markdown",
   "id": "binding-sequence",
   "metadata": {},
   "source": [
    "Figure 13 illustrates the number of `loan default` categorized into employment type. Compared to Salaried employees, self-employed customer have higher percent of defaulters and non-defaulters. "
   ]
  },
  {
   "cell_type": "code",
   "execution_count": 43,
   "id": "governmental-motor",
   "metadata": {},
   "outputs": [
    {
     "data": {
      "text/plain": [
       "Text(0.5, 1.0, 'Figure 13: Histogram of Loan Default by Employement type')"
      ]
     },
     "execution_count": 43,
     "metadata": {},
     "output_type": "execute_result"
    },
    {
     "data": {
      "image/png": "[encoded data removed]",
      "text/plain": [
       "<Figure size 432x288 with 1 Axes>"
      ]
     },
     "metadata": {
      "needs_background": "light"
     },
     "output_type": "display_data"
    }
   ],
   "source": [
    "sb.countplot(x='Employment.Type',hue='loan_default',data=ldd).set_title('Figure 13: Histogram of Loan Default by Employement type', fontsize = 15)"
   ]
  },
  {
   "cell_type": "markdown",
   "id": "removed-printer",
   "metadata": {},
   "source": [
    "Figure 14 illustrate the bar chart of number of customers who shared their `mobile number` by `loan default`. It can be observed that all customer have shared their mobile number and more than 75% of people who shared their number have not defaulted the loan."
   ]
  },
  {
   "cell_type": "code",
   "execution_count": 44,
   "id": "ignored-appearance",
   "metadata": {},
   "outputs": [],
   "source": [
    "def countplotmv(a):\n",
    "    sb.countplot(x=a,hue='loan_default',data=ldd)"
   ]
  },
  {
   "cell_type": "code",
   "execution_count": 45,
   "id": "perceived-ferry",
   "metadata": {},
   "outputs": [
    {
     "data": {
      "text/plain": [
       "Text(0.5, 1.0, 'Figure 14: Availability of Mobile Number ')"
      ]
     },
     "execution_count": 45,
     "metadata": {},
     "output_type": "execute_result"
    },
    {
     "data": {
      "image/png": "[encoded data removed]",
      "text/plain": [
       "<Figure size 432x288 with 1 Axes>"
      ]
     },
     "metadata": {
      "needs_background": "light"
     },
     "output_type": "display_data"
    }
   ],
   "source": [
    "countplotmv('MobileNo_Avl_Flag')\n",
    "mpt.title('Figure 14: Availability of Mobile Number ', fontsize=15)"
   ]
  },
  {
   "cell_type": "markdown",
   "id": "secure-wrong",
   "metadata": {},
   "source": [
    "Figure 15 illustrate the bar chart of number of customers who shared their `Pan number` by `loan default`. Most of the customer haven't shared their Pan number and in that around 20% of customer have defaulted their loan."
   ]
  },
  {
   "cell_type": "code",
   "execution_count": 46,
   "id": "other-paraguay",
   "metadata": {},
   "outputs": [
    {
     "data": {
      "text/plain": [
       "Text(0.5, 1.0, 'Figure 15: Availability pf Pan Number')"
      ]
     },
     "execution_count": 46,
     "metadata": {},
     "output_type": "execute_result"
    },
    {
     "data": {
      "image/png": "[encoded data removed]",
      "text/plain": [
       "<Figure size 432x288 with 1 Axes>"
      ]
     },
     "metadata": {
      "needs_background": "light"
     },
     "output_type": "display_data"
    }
   ],
   "source": [
    "countplotmv('PAN_flag')\n",
    "mpt.title('Figure 15: Availability pf Pan Number', fontsize=15)"
   ]
  },
  {
   "cell_type": "markdown",
   "id": "warming-heating",
   "metadata": {},
   "source": [
    "Figure 16 illustrate the bar chart of number of customers who shared their `voter id` by `loan default`. Most of the customer haven't shared their voter id. Comparing to previous figure 15 the percent of people who share their voter id is more than pan number."
   ]
  },
  {
   "cell_type": "code",
   "execution_count": 47,
   "id": "driving-illinois",
   "metadata": {},
   "outputs": [
    {
     "data": {
      "text/plain": [
       "Text(0.5, 1.0, 'Figure 16: Availability of Voter ID')"
      ]
     },
     "execution_count": 47,
     "metadata": {},
     "output_type": "execute_result"
    },
    {
     "data": {
      "image/png": "[encoded data removed]",
      "text/plain": [
       "<Figure size 432x288 with 1 Axes>"
      ]
     },
     "metadata": {
      "needs_background": "light"
     },
     "output_type": "display_data"
    }
   ],
   "source": [
    "countplotmv('VoterID_flag')\n",
    "mpt.title('Figure 16: Availability of Voter ID', fontsize=15)"
   ]
  },
  {
   "cell_type": "markdown",
   "id": "sharp-interim",
   "metadata": {},
   "source": [
    "Figure 17 illustrate the bar chart of number of customers who shared their `Passport` by `loan default`. The number of customer who have share their passport is negligible while comparing to other ID's."
   ]
  },
  {
   "cell_type": "code",
   "execution_count": 48,
   "id": "imposed-reynolds",
   "metadata": {},
   "outputs": [
    {
     "data": {
      "text/plain": [
       "Text(0.5, 1.0, 'Figure 17: Availability of Passport')"
      ]
     },
     "execution_count": 48,
     "metadata": {},
     "output_type": "execute_result"
    },
    {
     "data": {
      "image/png": "[encoded data removed]",
      "text/plain": [
       "<Figure size 432x288 with 1 Axes>"
      ]
     },
     "metadata": {
      "needs_background": "light"
     },
     "output_type": "display_data"
    }
   ],
   "source": [
    "countplotmv('Passport_flag')\n",
    "mpt.title('Figure 17: Availability of Passport', fontsize=15)"
   ]
  },
  {
   "cell_type": "markdown",
   "id": "atmospheric-journey",
   "metadata": {},
   "source": [
    "Figure 18 illustrate the bar chart of number of customers who shared their `Aadhar Card` by `loan default`. It can be observed that maximum customers shared their Aadhar card when compared to other id's. In that more than 60% customer have not defaulted the loan."
   ]
  },
  {
   "cell_type": "code",
   "execution_count": 49,
   "id": "legendary-durham",
   "metadata": {},
   "outputs": [
    {
     "data": {
      "text/plain": [
       "Text(0.5, 1.0, 'Figure 18: Availability of Adhaar card')"
      ]
     },
     "execution_count": 49,
     "metadata": {},
     "output_type": "execute_result"
    },
    {
     "data": {
      "image/png": "[encoded data removed]",
      "text/plain": [
       "<Figure size 432x288 with 1 Axes>"
      ]
     },
     "metadata": {
      "needs_background": "light"
     },
     "output_type": "display_data"
    }
   ],
   "source": [
    "countplotmv('Aadhar_flag')\n",
    "mpt.title('Figure 18: Availability of Adhaar card', fontsize=15)"
   ]
  },
  {
   "cell_type": "markdown",
   "id": "limiting-worcester",
   "metadata": {},
   "source": [
    "Figure 19 illustrate the bar chart of number of customers who shared their `Driving license` by `loan default`. Most of the customer have not shred their driving license."
   ]
  },
  {
   "cell_type": "code",
   "execution_count": 50,
   "id": "complimentary-vision",
   "metadata": {},
   "outputs": [
    {
     "data": {
      "text/plain": [
       "Text(0.5, 1.0, 'Figure 19 : Availability of Driving license')"
      ]
     },
     "execution_count": 50,
     "metadata": {},
     "output_type": "execute_result"
    },
    {
     "data": {
      "image/png": "[encoded data removed]",
      "text/plain": [
       "<Figure size 432x288 with 1 Axes>"
      ]
     },
     "metadata": {
      "needs_background": "light"
     },
     "output_type": "display_data"
    }
   ],
   "source": [
    "countplotmv('Driving_flag')\n",
    "mpt.title('Figure 19 : Availability of Driving license', fontsize=15)"
   ]
  },
  {
   "cell_type": "markdown",
   "id": "surrounded-characteristic",
   "metadata": {},
   "source": [
    "Figure 20 illustrates a lineplot of Primary EMI by Age. The graphs suggest that there is a positive relationship between Age and the amount of Primary EMI. The EMI amount shoots up for customers who are above 60 years old."
   ]
  },
  {
   "cell_type": "code",
   "execution_count": 51,
   "id": "historical-centre",
   "metadata": {},
   "outputs": [
    {
     "data": {
      "text/plain": [
       "Text(0.5, 1.0, 'Figure 20 : Line plot of Primary EMI by  Age')"
      ]
     },
     "execution_count": 51,
     "metadata": {},
     "output_type": "execute_result"
    },
    {
     "data": {
      "image/png": "[encoded data removed]",
      "text/plain": [
       "<Figure size 432x288 with 1 Axes>"
      ]
     },
     "metadata": {
      "needs_background": "light"
     },
     "output_type": "display_data"
    }
   ],
   "source": [
    "sb.lineplot(data=ldd,x='Age',y='Primary_EMI').set_title('Figure 20 : Line plot of Primary EMI by  Age', fontsize = 15)"
   ]
  },
  {
   "cell_type": "markdown",
   "id": "technological-assumption",
   "metadata": {},
   "source": [
    "Figure 21 shows a bar plot of loan default status of customers at first EMI broken down by Employment type and disbursed amount"
   ]
  },
  {
   "cell_type": "code",
   "execution_count": 52,
   "id": "described-orange",
   "metadata": {},
   "outputs": [
    {
     "data": {
      "text/plain": [
       "Text(0.5, 1.0, 'Figure 21: Bar plot of disbursed amount vs. Employment type by laon default.')"
      ]
     },
     "execution_count": 52,
     "metadata": {},
     "output_type": "execute_result"
    },
    {
     "data": {
      "image/png": "[encoded data removed]",
      "text/plain": [
       "<Figure size 432x288 with 1 Axes>"
      ]
     },
     "metadata": {
      "needs_background": "light"
     },
     "output_type": "display_data"
    }
   ],
   "source": [
    "sb.barplot(data=ldd,x='disbursed_amount',y='Employment.Type',hue='loan_default',dodge=True).set_title('Figure 21: Bar plot of disbursed amount vs. Employment type by laon default.', fontsize = 15)"
   ]
  },
  {
   "cell_type": "markdown",
   "id": "seasonal-sample",
   "metadata": {},
   "source": [
    "Figure 22 illustrates the number of loan default (0 = default , 1 = no default) made by customers broken down by 'Bureau score description' and 'Employment.Type. Its can be observed that the customer with no score are on the higher side in both default and no default sections."
   ]
  },
  {
   "cell_type": "code",
   "execution_count": 53,
   "id": "handy-homework",
   "metadata": {},
   "outputs": [
    {
     "data": {
      "text/plain": [
       "Text(0.5, 0.98, 'Figure 22: Bureau Score Description by loan default')"
      ]
     },
     "execution_count": 53,
     "metadata": {},
     "output_type": "execute_result"
    },
    {
     "data": {
      "image/png": "[encoded data removed]",
      "text/plain": [
       "<Figure size 827.25x360 with 2 Axes>"
      ]
     },
     "metadata": {
      "needs_background": "light"
     },
     "output_type": "display_data"
    }
   ],
   "source": [
    "a=sb.catplot(data=ldd,x='Bureau score description',hue='Employment.Type',col='loan_default',kind=\"count\")\n",
    "a.fig.subplots_adjust(top=0.9)\n",
    "a.fig.suptitle('Figure 22: Bureau Score Description by loan default')"
   ]
  },
  {
   "cell_type": "markdown",
   "id": "small-gardening",
   "metadata": {},
   "source": [
    "Figure 23 illustrate a line plot of loan default by Bureau Score and Age. It can be seen that there is positive relationship between Bureau Score, Age and loan default or no default. "
   ]
  },
  {
   "cell_type": "code",
   "execution_count": 54,
   "id": "provincial-fetish",
   "metadata": {},
   "outputs": [
    {
     "data": {
      "text/plain": [
       "Text(0.5, 1.0, 'Figure 23: Line chart - Age vs. Bureau Score by loan default')"
      ]
     },
     "execution_count": 54,
     "metadata": {},
     "output_type": "execute_result"
    },
    {
     "data": {
      "image/png": "[encoded data removed]",
      "text/plain": [
       "<Figure size 432x288 with 1 Axes>"
      ]
     },
     "metadata": {
      "needs_background": "light"
     },
     "output_type": "display_data"
    }
   ],
   "source": [
    "sb.lineplot(data=ldd,x=\"Age\",y='Bureau Score',hue='loan_default')\n",
    "mpt.title('Figure 23: Line chart - Age vs. Bureau Score by loan default', fontsize=15)"
   ]
  },
  {
   "cell_type": "markdown",
   "id": "secondary-elephant",
   "metadata": {},
   "source": [
    "From figure 24 we can observe that the density of disbursed amount is more for non defaulters."
   ]
  },
  {
   "cell_type": "code",
   "execution_count": 55,
   "id": "ranking-stuff",
   "metadata": {},
   "outputs": [
    {
     "data": {
      "text/plain": [
       "Text(0.5, 1.0, 'Figure 24: Density chart of disbursed amount by loan default')"
      ]
     },
     "execution_count": 55,
     "metadata": {},
     "output_type": "execute_result"
    },
    {
     "data": {
      "image/png": "[encoded data removed]",
      "text/plain": [
       "<Figure size 720x360 with 1 Axes>"
      ]
     },
     "metadata": {
      "needs_background": "light"
     },
     "output_type": "display_data"
    }
   ],
   "source": [
    "mpt.figure(figsize=(10, 5))\n",
    "sb.kdeplot(data=ldd,x='disbursed_amount',hue='loan_default',multiple=\"stack\")\n",
    "mpt.title('Figure 24: Density chart of disbursed amount by loan default', fontsize=15)"
   ]
  },
  {
   "cell_type": "markdown",
   "id": "senior-midwest",
   "metadata": {},
   "source": [
    "The figure 25 displays the bar chart of the count of loan default by Employment type and Age group. As we can observe the most number of non-default are made by the age group ranging from 20-29 both in case of salaried and self employed customers. As the age of the customers increase the trend decreases."
   ]
  },
  {
   "cell_type": "code",
   "execution_count": 56,
   "id": "operating-garbage",
   "metadata": {},
   "outputs": [
    {
     "data": {
      "text/plain": [
       "Text(0.5, 0.98, 'Figure 25 : Age Group by loan default')"
      ]
     },
     "execution_count": 56,
     "metadata": {},
     "output_type": "execute_result"
    },
    {
     "data": {
      "image/png": "[encoded data removed]",
      "text/plain": [
       "<Figure size 827.25x360 with 2 Axes>"
      ]
     },
     "metadata": {
      "needs_background": "light"
     },
     "output_type": "display_data"
    }
   ],
   "source": [
    "b=sb.catplot(x=\"Age_group\", hue=\"Employment.Type\", col=\"loan_default\",data=ldd, kind=\"count\")\n",
    "b.fig.subplots_adjust(top=0.9)\n",
    "b.fig.suptitle('Figure 25 : Age Group by loan default')"
   ]
  },
  {
   "cell_type": "markdown",
   "id": "noted-anaheim",
   "metadata": {},
   "source": [
    "The bar chart in Figure 26 describes the Bureau Score vs. Age group of the customers by Employment type. The Figure suggests that the Bureau score reaches maximum at the age group of 50-59 in case of salaried customers and in case of Self employed customers the Bureau score reached at the maximum at the age group 60-69. ALthough the minimum bureau score for both Salaried and Self employed customers are at the minimum at the age group 20-29."
   ]
  },
  {
   "cell_type": "code",
   "execution_count": 57,
   "id": "single-engine",
   "metadata": {},
   "outputs": [
    {
     "data": {
      "text/plain": [
       "Text(0.5, 1.0, 'Figure 26: Age group vs. Bureau score by Employment type')"
      ]
     },
     "execution_count": 57,
     "metadata": {},
     "output_type": "execute_result"
    },
    {
     "data": {
      "image/png": "[encoded data removed]",
      "text/plain": [
       "<Figure size 432x288 with 1 Axes>"
      ]
     },
     "metadata": {
      "needs_background": "light"
     },
     "output_type": "display_data"
    }
   ],
   "source": [
    "sb.barplot (x=\"Age_group\", y=\"Bureau Score\",hue=\"Employment.Type\",data=ldd)\n",
    "mpt.legend(bbox_to_anchor=(1.05, 1), loc=2, borderaxespad=0.)\n",
    "mpt.title('Figure 26: Age group vs. Bureau score by Employment type', fontsize=15)"
   ]
  },
  {
   "cell_type": "markdown",
   "id": "standing-palace",
   "metadata": {},
   "source": [
    "The figure 27 illustrates bar chart of age group vs. average disbursed amount by loan default. It can be interpreted from the graph that the disbursed amount to the loan defaulter and no defaulter of the first EMI diminishes slightly as the age of the customer increase."
   ]
  },
  {
   "cell_type": "code",
   "execution_count": 58,
   "id": "trying-dispatch",
   "metadata": {},
   "outputs": [
    {
     "data": {
      "text/plain": [
       "Text(0.5, 1.0, 'Figure 27')"
      ]
     },
     "execution_count": 58,
     "metadata": {},
     "output_type": "execute_result"
    },
    {
     "data": {
      "image/png": "[encoded data removed]",
      "text/plain": [
       "<Figure size 429.75x360 with 1 Axes>"
      ]
     },
     "metadata": {
      "needs_background": "light"
     },
     "output_type": "display_data"
    }
   ],
   "source": [
    "sb.catplot(data=ldd, x='Age_group' , y='disbursed_amount', hue= 'loan_default',  kind=\"bar\")\n",
    "mpt.title('Figure 27', fontsize=15)"
   ]
  },
  {
   "cell_type": "markdown",
   "id": "central-encoding",
   "metadata": {},
   "source": [
    "# Summary and Conclusion <a id='sumc'></a>\n",
    "In Phase 1 of the project we carried out Data Preprocessing and Visualization. The dataset was made ready for further modeling and prediction in Phase 2. \n",
    "The unnecessary attributes where removed from the dataset and necessary preprocessing and transformation was done on the required attributes such has handling missing values, doing required data type conversion of attributes, creating new variables such as Age, Age_range, Average_Tenure and CREDIT.HISTORY.LENGTH for better understanding and visualization, encoding of category variable to numerical values. \n",
    "The features and the relationship between features were explored through visualization. <br>\n",
    "A few observations :<br>\n",
    "* loan default clients were on 22% of the dataset. \n",
    "* Self Employed category holds more than 50% of the loan\n",
    "* Age and Bureau Score are in positive relation\n",
    "* Most number of loans were taken among the younger age group between 19 to 30.\n",
    "* Most of the customer only provide Adhaar card details while taking loan.\n",
    "\n",
    "A more detailed data analysis would be carried out in Phase 2 were the modeling and prediction will be done with the dataset."
   ]
  },
  {
   "cell_type": "markdown",
   "id": "normal-grass",
   "metadata": {},
   "source": [
    "# Reference<a id='ref'></a>\n",
    "1. LoanDefault_LTFS_AV(ML_FINHACK). (2021). Retrieved 10 April 2021, from https://www.kaggle.com/lampubhutia/loandefault-ltfs-avml-finhack\n",
    "2. seaborn: statistical data visualization — seaborn 0.11.1 documentation. (2021). Retrieved 10 April 2021, from https://seaborn.pydata.org/index.html\n",
    "3. Gallery — Matplotlib 3.4.1 documentation. (2021). Retrieved 10 April 2021, from https://matplotlib.org/stable/gallery/index.html\n",
    "4. User Guide — pandas 1.2.3 documentation. (2021). Retrieved 10 April 2021, from https://pandas.pydata.org/pandas-docs/stable/user_guide/index.html\n",
    "5. Regression Case Study | www.featureranking.com. (2021). Retrieved 10 April 2021, from https://www.featureranking.com/tutorials/statistics-tutorials/regression-case-study/"
   ]
  }
 ],
 "metadata": {
  "kernelspec": {
   "display_name": "Python 3",
   "language": "python",
   "name": "python3"
  },
  "language_info": {
   "codemirror_mode": {
    "name": "ipython",
    "version": 3
   },
   "file_extension": ".py",
   "mimetype": "text/x-python",
   "name": "python",
   "nbconvert_exporter": "python",
   "pygments_lexer": "ipython3",
   "version": "3.8.8"
  }
 },
 "nbformat": 4,
 "nbformat_minor": 5
}
